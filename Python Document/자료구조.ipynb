{
  "nbformat": 4,
  "nbformat_minor": 0,
  "metadata": {
    "colab": {
      "name": "자료구조.ipynb",
      "provenance": [],
      "collapsed_sections": [],
      "toc_visible": true
    },
    "kernelspec": {
      "name": "python3",
      "display_name": "Python 3"
    },
    "language_info": {
      "name": "python"
    }
  },
  "cells": [
    {
      "cell_type": "markdown",
      "source": [
        "# 5.자료구조\n"
      ],
      "metadata": {
        "id": "pbC0e12lkOeB"
      }
    },
    {
      "cell_type": "markdown",
      "source": [
        "## 5.1 리스트 더보기"
      ],
      "metadata": {
        "id": "VaikRCDykX65"
      }
    },
    {
      "cell_type": "code",
      "execution_count": null,
      "metadata": {
        "id": "3jzwctNJoUP1"
      },
      "outputs": [],
      "source": [
        "fruits = ['orange', 'apple', 'pear', 'banana', 'kiwi', 'apple', 'banana']"
      ]
    },
    {
      "cell_type": "code",
      "source": [
        "fruits.count('apple')"
      ],
      "metadata": {
        "colab": {
          "base_uri": "https://localhost:8080/"
        },
        "id": "Uuxq6FCZppnA",
        "outputId": "7fea12b5-908e-49fd-97a8-5e1df4967c5a"
      },
      "execution_count": null,
      "outputs": [
        {
          "output_type": "execute_result",
          "data": {
            "text/plain": [
              "2"
            ]
          },
          "metadata": {},
          "execution_count": 2
        }
      ]
    },
    {
      "cell_type": "code",
      "source": [
        "fruits.index('banana')"
      ],
      "metadata": {
        "colab": {
          "base_uri": "https://localhost:8080/"
        },
        "id": "wwz1LLPLpqgU",
        "outputId": "5626f208-15ff-4311-a8c8-204e0f1c21f8"
      },
      "execution_count": null,
      "outputs": [
        {
          "output_type": "execute_result",
          "data": {
            "text/plain": [
              "3"
            ]
          },
          "metadata": {},
          "execution_count": 3
        }
      ]
    },
    {
      "cell_type": "code",
      "source": [
        "fruits.index('banana', 4)  # 4를 시작점으로 다음에 나타나는 'banana'의 index를 찾기"
      ],
      "metadata": {
        "colab": {
          "base_uri": "https://localhost:8080/"
        },
        "id": "aV5AcmCkqsKY",
        "outputId": "3f8ca4ad-fd45-4609-a605-619d59b8b99a"
      },
      "execution_count": null,
      "outputs": [
        {
          "output_type": "execute_result",
          "data": {
            "text/plain": [
              "6"
            ]
          },
          "metadata": {},
          "execution_count": 8
        }
      ]
    },
    {
      "cell_type": "code",
      "source": [
        "fruits.reverse()\n",
        "fruits"
      ],
      "metadata": {
        "colab": {
          "base_uri": "https://localhost:8080/"
        },
        "id": "XOT7448sqsH0",
        "outputId": "b4b79f68-a1fa-4c2b-c7ef-86074b44f0ae"
      },
      "execution_count": null,
      "outputs": [
        {
          "output_type": "execute_result",
          "data": {
            "text/plain": [
              "['banana', 'apple', 'kiwi', 'banana', 'pear', 'apple', 'orange']"
            ]
          },
          "metadata": {},
          "execution_count": 9
        }
      ]
    },
    {
      "cell_type": "code",
      "source": [
        "fruits.append('grape')\n",
        "fruits"
      ],
      "metadata": {
        "colab": {
          "base_uri": "https://localhost:8080/"
        },
        "id": "SiWC_EDsrP--",
        "outputId": "56e2f715-1030-412f-e4bc-4b921825e3a2"
      },
      "execution_count": null,
      "outputs": [
        {
          "output_type": "execute_result",
          "data": {
            "text/plain": [
              "['banana', 'apple', 'kiwi', 'banana', 'pear', 'apple', 'orange', 'grape']"
            ]
          },
          "metadata": {},
          "execution_count": 10
        }
      ]
    },
    {
      "cell_type": "code",
      "source": [
        "fruits.sort() # a,b,c 순서대로 정렬\n",
        "fruits"
      ],
      "metadata": {
        "colab": {
          "base_uri": "https://localhost:8080/"
        },
        "id": "Tkn8u_cVrP82",
        "outputId": "9204f5c6-2c95-4e97-b146-7de035a5739b"
      },
      "execution_count": null,
      "outputs": [
        {
          "output_type": "execute_result",
          "data": {
            "text/plain": [
              "['apple', 'apple', 'banana', 'banana', 'grape', 'kiwi', 'orange', 'pear']"
            ]
          },
          "metadata": {},
          "execution_count": 11
        }
      ]
    },
    {
      "cell_type": "code",
      "source": [
        "# 리스트에서 주어진 위치의 항목을 삭제하고 그 항목을 return한다.\n",
        "# 지정하지않으면 마지막 항목\n",
        "fruits.pop() "
      ],
      "metadata": {
        "colab": {
          "base_uri": "https://localhost:8080/",
          "height": 35
        },
        "id": "9QZMB83RrpyY",
        "outputId": "8f5b9c5c-4afd-4853-858f-d538b1b0cf5b"
      },
      "execution_count": null,
      "outputs": [
        {
          "output_type": "execute_result",
          "data": {
            "application/vnd.google.colaboratory.intrinsic+json": {
              "type": "string"
            },
            "text/plain": [
              "'pear'"
            ]
          },
          "metadata": {},
          "execution_count": 13
        }
      ]
    },
    {
      "cell_type": "code",
      "source": [
        "fruits.remove('apple')\n",
        "fruits"
      ],
      "metadata": {
        "colab": {
          "base_uri": "https://localhost:8080/"
        },
        "id": "Sd4LrqDNr-Jp",
        "outputId": "eefaa85f-ab83-459e-c08a-2eac91af65ee"
      },
      "execution_count": null,
      "outputs": [
        {
          "output_type": "execute_result",
          "data": {
            "text/plain": [
              "['apple', 'banana', 'grape', 'orange']"
            ]
          },
          "metadata": {},
          "execution_count": 21
        }
      ]
    },
    {
      "cell_type": "code",
      "source": [
        "animal = ['하마', '고양이', '사자', '말'] # 가,나,다 순서대로 정렬\n",
        "animal.sort()\n",
        "animal"
      ],
      "metadata": {
        "colab": {
          "base_uri": "https://localhost:8080/"
        },
        "id": "AEAYmkhzrYuU",
        "outputId": "3fe1e39c-fb92-4e0a-bf44-be080f24a0fc"
      },
      "execution_count": null,
      "outputs": [
        {
          "output_type": "execute_result",
          "data": {
            "text/plain": [
              "['고양이', '말', '사자', '하마']"
            ]
          },
          "metadata": {},
          "execution_count": 12
        }
      ]
    },
    {
      "cell_type": "markdown",
      "source": [
        "## 5.1.1 리스트를 스택으로 사용하기"
      ],
      "metadata": {
        "id": "eVNSOmbykc4t"
      }
    },
    {
      "cell_type": "code",
      "source": [
        "\n",
        "# 마지막에 넣은 요소가 처음으로 꺼내지는 요소(LIFO)\n",
        "stack = [3, 4, 5]\n",
        "stack.append(6)\n",
        "stack.append(7)\n",
        "stack"
      ],
      "metadata": {
        "colab": {
          "base_uri": "https://localhost:8080/"
        },
        "id": "e_CWrIMXo7QZ",
        "outputId": "a2fcff54-c112-4c4c-d6ac-97f07926a6bb"
      },
      "execution_count": null,
      "outputs": [
        {
          "output_type": "execute_result",
          "data": {
            "text/plain": [
              "[3, 4, 5, 6, 7]"
            ]
          },
          "metadata": {},
          "execution_count": 22
        }
      ]
    },
    {
      "cell_type": "code",
      "source": [
        "stack.pop()"
      ],
      "metadata": {
        "colab": {
          "base_uri": "https://localhost:8080/"
        },
        "id": "P5Xu7EJLo7D-",
        "outputId": "77479f97-a35c-4cde-d242-67acb4400fa1"
      },
      "execution_count": null,
      "outputs": [
        {
          "output_type": "execute_result",
          "data": {
            "text/plain": [
              "6"
            ]
          },
          "metadata": {},
          "execution_count": 24
        }
      ]
    },
    {
      "cell_type": "code",
      "source": [
        "stack"
      ],
      "metadata": {
        "colab": {
          "base_uri": "https://localhost:8080/"
        },
        "id": "fZ6YMFuis1S6",
        "outputId": "7d88bf32-413c-4fa5-bffc-747c64083965"
      },
      "execution_count": null,
      "outputs": [
        {
          "output_type": "execute_result",
          "data": {
            "text/plain": [
              "[3, 4, 5]"
            ]
          },
          "metadata": {},
          "execution_count": 25
        }
      ]
    },
    {
      "cell_type": "markdown",
      "source": [
        "## 5.1.2 리스트를 큐로 사용하기"
      ],
      "metadata": {
        "id": "hxYWACnvkfSV"
      }
    },
    {
      "cell_type": "code",
      "source": [
        "\n",
        "# 큐(FIFO), 리스트는 큐에 적합하지않으므로 다음을 사용\n",
        "from collections import deque\n",
        "queue = deque([\"Eric\", \"John\", \"Michael\"])"
      ],
      "metadata": {
        "id": "pKYifKVKo7Ac"
      },
      "execution_count": null,
      "outputs": []
    },
    {
      "cell_type": "code",
      "source": [
        "queue.append(\"Terry\")\n",
        "queue.append(\"Graham\")\n",
        "queue.popleft()"
      ],
      "metadata": {
        "colab": {
          "base_uri": "https://localhost:8080/",
          "height": 35
        },
        "id": "Ujl-X6w82sll",
        "outputId": "23017343-b9e4-419e-f7cf-fcd3ae271c76"
      },
      "execution_count": null,
      "outputs": [
        {
          "output_type": "execute_result",
          "data": {
            "application/vnd.google.colaboratory.intrinsic+json": {
              "type": "string"
            },
            "text/plain": [
              "'Eric'"
            ]
          },
          "metadata": {},
          "execution_count": 28
        }
      ]
    },
    {
      "cell_type": "code",
      "source": [
        "queue.popleft()"
      ],
      "metadata": {
        "colab": {
          "base_uri": "https://localhost:8080/",
          "height": 35
        },
        "id": "JV3NMsPe27Nr",
        "outputId": "a264b974-a225-4d86-f311-68cd768fbc5c"
      },
      "execution_count": null,
      "outputs": [
        {
          "output_type": "execute_result",
          "data": {
            "application/vnd.google.colaboratory.intrinsic+json": {
              "type": "string"
            },
            "text/plain": [
              "'John'"
            ]
          },
          "metadata": {},
          "execution_count": 29
        }
      ]
    },
    {
      "cell_type": "code",
      "source": [
        "queue"
      ],
      "metadata": {
        "colab": {
          "base_uri": "https://localhost:8080/"
        },
        "id": "DKfsdF3N281w",
        "outputId": "1e6c6350-b663-42b3-e224-d9c30e94d0e9"
      },
      "execution_count": null,
      "outputs": [
        {
          "output_type": "execute_result",
          "data": {
            "text/plain": [
              "deque(['Michael', 'Terry', 'Graham'])"
            ]
          },
          "metadata": {},
          "execution_count": 30
        }
      ]
    },
    {
      "cell_type": "markdown",
      "source": [
        "## 5.1.3 리스트 컴프리헨션"
      ],
      "metadata": {
        "id": "q2Tju7ZokgoJ"
      }
    },
    {
      "cell_type": "code",
      "source": [
        "\n",
        "# 리스트를 만드는 간결한 방법 제공\n",
        "# 제곱수의 리스트\n",
        "squares = []\n",
        "for x in range(10):\n",
        "  squares.append(x**2)\n",
        "squares"
      ],
      "metadata": {
        "colab": {
          "base_uri": "https://localhost:8080/"
        },
        "id": "Ep5_fCalo694",
        "outputId": "1fedf893-272a-4e66-d842-88fc5cc2ed04"
      },
      "execution_count": null,
      "outputs": [
        {
          "output_type": "execute_result",
          "data": {
            "text/plain": [
              "[0, 1, 4, 9, 16, 25, 36, 49, 64, 81]"
            ]
          },
          "metadata": {},
          "execution_count": 31
        }
      ]
    },
    {
      "cell_type": "code",
      "source": [
        "squares = list(map(lambda x: x**2, range(10))) # map은 for문 없이 모든 요소에 대해 반복처리를 가능하게 해줌.\n",
        "squares"
      ],
      "metadata": {
        "colab": {
          "base_uri": "https://localhost:8080/"
        },
        "id": "2cN6Vd5hpx1E",
        "outputId": "56e0425d-74dc-4136-f571-6b0c64e620a8"
      },
      "execution_count": null,
      "outputs": [
        {
          "output_type": "execute_result",
          "data": {
            "text/plain": [
              "[0, 1, 4, 9, 16, 25, 36, 49, 64, 81]"
            ]
          },
          "metadata": {},
          "execution_count": 32
        }
      ]
    },
    {
      "cell_type": "code",
      "source": [
        "squares = [x**2 for x in range(10)]\n",
        "squares"
      ],
      "metadata": {
        "colab": {
          "base_uri": "https://localhost:8080/"
        },
        "id": "vGzkSIw_3p2Z",
        "outputId": "0e940f56-bf72-41b5-9014-2cdc413f0caa"
      },
      "execution_count": null,
      "outputs": [
        {
          "output_type": "execute_result",
          "data": {
            "text/plain": [
              "[0, 1, 4, 9, 16, 25, 36, 49, 64, 81]"
            ]
          },
          "metadata": {},
          "execution_count": 34
        }
      ]
    },
    {
      "cell_type": "code",
      "source": [
        "# 두 리스트의 요소들을 서로 같지 않은 것끼리 결합하는 리스트 컴프리헨션\n",
        "[(x, y) for x in [1,2,3] for y in [3,1,4] if x != y]"
      ],
      "metadata": {
        "colab": {
          "base_uri": "https://localhost:8080/"
        },
        "id": "BzfZpxur479C",
        "outputId": "cdade5b0-90bb-4759-a228-1d37cca80797"
      },
      "execution_count": null,
      "outputs": [
        {
          "output_type": "execute_result",
          "data": {
            "text/plain": [
              "[(1, 3), (1, 4), (2, 3), (2, 1), (2, 4), (3, 1), (3, 4)]"
            ]
          },
          "metadata": {},
          "execution_count": 35
        }
      ]
    },
    {
      "cell_type": "code",
      "source": [
        "# 위와 같음, 이중for문 + if 조건절\n",
        "combs = []\n",
        "for x in [1,2,3]:\n",
        "  for y in [3,1,4]:\n",
        "    if x != y:\n",
        "      combs.append((x,y))\n",
        "\n",
        "combs"
      ],
      "metadata": {
        "colab": {
          "base_uri": "https://localhost:8080/"
        },
        "id": "Fk-eV8_K47p3",
        "outputId": "eefba6cc-7810-4aaf-d26a-58d27b8fcfb8"
      },
      "execution_count": null,
      "outputs": [
        {
          "output_type": "execute_result",
          "data": {
            "text/plain": [
              "[(1, 3), (1, 4), (2, 3), (2, 1), (2, 4), (3, 1), (3, 4)]"
            ]
          },
          "metadata": {},
          "execution_count": 36
        }
      ]
    },
    {
      "cell_type": "code",
      "source": [
        "# 리스트 컴프리헨션은 복잡한 표현식과 중첩된 함수들을 포함할 수 있음\n",
        "vec = [-4, -2, 0, 2, 4]\n",
        "[x*2 for x in vec]"
      ],
      "metadata": {
        "colab": {
          "base_uri": "https://localhost:8080/"
        },
        "id": "DM2AKam647Y1",
        "outputId": "15eff472-8348-4c37-cc95-fe023013ea8b"
      },
      "execution_count": null,
      "outputs": [
        {
          "output_type": "execute_result",
          "data": {
            "text/plain": [
              "[-8, -4, 0, 4, 8]"
            ]
          },
          "metadata": {},
          "execution_count": 4
        }
      ]
    },
    {
      "cell_type": "code",
      "source": [
        "[x for x in vec if x>= 0]"
      ],
      "metadata": {
        "colab": {
          "base_uri": "https://localhost:8080/"
        },
        "id": "EWBpRwPNhE9a",
        "outputId": "d0d1cfab-ffce-4bbf-807f-8c1f602d7599"
      },
      "execution_count": null,
      "outputs": [
        {
          "output_type": "execute_result",
          "data": {
            "text/plain": [
              "[0, 2, 4]"
            ]
          },
          "metadata": {},
          "execution_count": 6
        }
      ]
    },
    {
      "cell_type": "code",
      "source": [
        "[abs(x) for x in vec]"
      ],
      "metadata": {
        "colab": {
          "base_uri": "https://localhost:8080/"
        },
        "id": "SAV2uAI6i1ta",
        "outputId": "028af2eb-4b06-4c3d-ad60-32deeb3b44eb"
      },
      "execution_count": null,
      "outputs": [
        {
          "output_type": "execute_result",
          "data": {
            "text/plain": [
              "[4, 2, 0, 2, 4]"
            ]
          },
          "metadata": {},
          "execution_count": 7
        }
      ]
    },
    {
      "cell_type": "code",
      "source": [
        "freshfruit = [' banana   ', ' loganberry   ', '  passion fruit '] # strip(): 공백제거\n",
        "[weapon.strip() for weapon in freshfruit]"
      ],
      "metadata": {
        "colab": {
          "base_uri": "https://localhost:8080/"
        },
        "id": "FNETUejzjCpv",
        "outputId": "bbd8b8fc-d992-4f67-a40e-e0f8db33c349"
      },
      "execution_count": null,
      "outputs": [
        {
          "output_type": "execute_result",
          "data": {
            "text/plain": [
              "['banana', 'loganberry', 'passion fruit']"
            ]
          },
          "metadata": {},
          "execution_count": 9
        }
      ]
    },
    {
      "cell_type": "code",
      "source": [
        " # create a list of 2-tuples like (number, square)\n",
        " [(x, x**2) for x in range(6)]"
      ],
      "metadata": {
        "colab": {
          "base_uri": "https://localhost:8080/"
        },
        "id": "8HiPcpfsjCnI",
        "outputId": "1aec2286-8df4-405d-8c7e-02d6b4d8face"
      },
      "execution_count": null,
      "outputs": [
        {
          "output_type": "execute_result",
          "data": {
            "text/plain": [
              "[(0, 0), (1, 1), (2, 4), (3, 9), (4, 16), (5, 25)]"
            ]
          },
          "metadata": {},
          "execution_count": 15
        }
      ]
    },
    {
      "cell_type": "code",
      "source": [
        "# flatten a list using a listcomp with two 'for'\n",
        "vec = [[1,2,3], [4,5,6], [7,8,9]]\n",
        "[num for elem in vec for num in elem]"
      ],
      "metadata": {
        "colab": {
          "base_uri": "https://localhost:8080/"
        },
        "id": "u7yLabtilS7_",
        "outputId": "dd9399dd-39e8-4f3f-c4e3-59e33c19d0b9"
      },
      "execution_count": null,
      "outputs": [
        {
          "output_type": "execute_result",
          "data": {
            "text/plain": [
              "[1, 2, 3, 4, 5, 6, 7, 8, 9]"
            ]
          },
          "metadata": {},
          "execution_count": 16
        }
      ]
    },
    {
      "cell_type": "code",
      "source": [
        "# 위와 똑같은거\n",
        "a = []\n",
        "for elem in vec:\n",
        "  for num in elem:\n",
        "    a.append(num)\n",
        "print(a)"
      ],
      "metadata": {
        "colab": {
          "base_uri": "https://localhost:8080/"
        },
        "id": "45Ox2XumlS5p",
        "outputId": "c7d2379f-6d24-4215-8e25-6f22542a31e8"
      },
      "execution_count": null,
      "outputs": [
        {
          "output_type": "stream",
          "name": "stdout",
          "text": [
            "[1, 2, 3, 4, 5, 6, 7, 8, 9]\n"
          ]
        }
      ]
    },
    {
      "cell_type": "code",
      "source": [
        "from math import pi\n",
        "# round(a, b)는 a를 i번째 소수점 자리까지 표현해준다. i+1번째에서 반올림해줌.\n",
        "[str(round(pi,i)) for i in range(1,6)]\n"
      ],
      "metadata": {
        "colab": {
          "base_uri": "https://localhost:8080/"
        },
        "id": "Zbawi7CqmIkx",
        "outputId": "f802005c-1089-491b-8459-457482b7a75c"
      },
      "execution_count": null,
      "outputs": [
        {
          "output_type": "execute_result",
          "data": {
            "text/plain": [
              "['3.1', '3.14', '3.142', '3.1416', '3.14159']"
            ]
          },
          "metadata": {},
          "execution_count": 21
        }
      ]
    },
    {
      "cell_type": "markdown",
      "source": [
        "## 5.1.4 중첩된 리스트 컴프리헨션"
      ],
      "metadata": {
        "id": "hg0APdZskjHi"
      }
    },
    {
      "cell_type": "code",
      "source": [
        "\n",
        "matrix = [\n",
        "          [1,2,3,4],\n",
        "          [5,6,7,8],\n",
        "          [9,10,11,12]\n",
        "]"
      ],
      "metadata": {
        "id": "_s4fzHq4pWJq"
      },
      "execution_count": null,
      "outputs": []
    },
    {
      "cell_type": "code",
      "source": [
        "# 행과 열을 전치시키는 리스트 컴프리헨션\n",
        "[[row[i] for row in matrix] for i in range(4)]"
      ],
      "metadata": {
        "colab": {
          "base_uri": "https://localhost:8080/"
        },
        "id": "Stg0IryQqCQ8",
        "outputId": "354b2c0c-6dbc-44c4-ff33-1602a2843d4c"
      },
      "execution_count": null,
      "outputs": [
        {
          "output_type": "execute_result",
          "data": {
            "text/plain": [
              "[[1, 5, 9], [2, 6, 10], [3, 7, 11], [4, 8, 12]]"
            ]
          },
          "metadata": {},
          "execution_count": 25
        }
      ]
    },
    {
      "cell_type": "code",
      "source": [
        "# 위와 같음\n",
        "transposed = []\n",
        "for i in range(4):\n",
        "  transposed.append([row[i] for row in matrix])\n",
        "transposed"
      ],
      "metadata": {
        "colab": {
          "base_uri": "https://localhost:8080/"
        },
        "id": "pgwOs2A4qCOe",
        "outputId": "743fcd0c-2561-4fd3-b444-016634a5b768"
      },
      "execution_count": null,
      "outputs": [
        {
          "output_type": "execute_result",
          "data": {
            "text/plain": [
              "[[1, 5, 9], [2, 6, 10], [3, 7, 11], [4, 8, 12]]"
            ]
          },
          "metadata": {},
          "execution_count": 24
        }
      ]
    },
    {
      "cell_type": "code",
      "source": [
        "# zip() 함수\n",
        "list(zip(*matrix)) # 병렬처리, 아래 예시를 보면 이해할 수 있음"
      ],
      "metadata": {
        "colab": {
          "base_uri": "https://localhost:8080/"
        },
        "id": "9EVWI51eqCLN",
        "outputId": "35e36a78-102a-44b4-8bae-83eaf92c6b19"
      },
      "execution_count": null,
      "outputs": [
        {
          "output_type": "execute_result",
          "data": {
            "text/plain": [
              "[(1, 5, 9), (2, 6, 10), (3, 7, 11), (4, 8, 12)]"
            ]
          },
          "metadata": {},
          "execution_count": 28
        }
      ]
    },
    {
      "cell_type": "code",
      "source": [
        "print(matrix)\n",
        "print(*matrix)"
      ],
      "metadata": {
        "colab": {
          "base_uri": "https://localhost:8080/"
        },
        "id": "byY20JDTrzrk",
        "outputId": "4f89522c-ddb3-486d-e939-7d0293412cef"
      },
      "execution_count": null,
      "outputs": [
        {
          "output_type": "stream",
          "name": "stdout",
          "text": [
            "[[1, 2, 3, 4], [5, 6, 7, 8], [9, 10, 11, 12]]\n",
            "[1, 2, 3, 4] [5, 6, 7, 8] [9, 10, 11, 12]\n"
          ]
        }
      ]
    },
    {
      "cell_type": "code",
      "source": [
        "# zip() 함수의 사용방법\n",
        "# 병렬처리 예시\n",
        "for number, upper, lower in zip(\"12345\", \"ABCDE\", \"abcde\"):\n",
        "  print(number, upper, lower)"
      ],
      "metadata": {
        "colab": {
          "base_uri": "https://localhost:8080/"
        },
        "id": "mAU9zWsKrkNh",
        "outputId": "294ddd45-f152-47b8-de92-ce30299c0282"
      },
      "execution_count": null,
      "outputs": [
        {
          "output_type": "stream",
          "name": "stdout",
          "text": [
            "1 A a\n",
            "2 B b\n",
            "3 C c\n",
            "4 D d\n",
            "5 E e\n"
          ]
        }
      ]
    },
    {
      "cell_type": "markdown",
      "source": [
        "# 5.2 del 문"
      ],
      "metadata": {
        "id": "PzmVSCubknGB"
      }
    },
    {
      "cell_type": "code",
      "source": [
        "\n",
        "# 리스트에서 값 대신에 인덱스를 사용해서 항목을 삭제하는 방법\n",
        "a = [-1, 1, 66.25, 333, 333, 1234.5]"
      ],
      "metadata": {
        "id": "CnZRNRlCo67E"
      },
      "execution_count": null,
      "outputs": []
    },
    {
      "cell_type": "code",
      "source": [
        "del a[0]\n",
        "a"
      ],
      "metadata": {
        "colab": {
          "base_uri": "https://localhost:8080/"
        },
        "id": "ub8KCcOzsJoD",
        "outputId": "543c5e9f-1e17-4203-f938-4d8f74d34d1a"
      },
      "execution_count": null,
      "outputs": [
        {
          "output_type": "execute_result",
          "data": {
            "text/plain": [
              "[1, 66.25, 333, 333, 1234.5]"
            ]
          },
          "metadata": {},
          "execution_count": 35
        }
      ]
    },
    {
      "cell_type": "code",
      "source": [
        "del a[2:4] # 4는 포함안됨\n",
        "a"
      ],
      "metadata": {
        "colab": {
          "base_uri": "https://localhost:8080/"
        },
        "id": "1_EhF4CZsJlt",
        "outputId": "7e0994e2-c69e-4d71-df80-5fc453497b03"
      },
      "execution_count": null,
      "outputs": [
        {
          "output_type": "execute_result",
          "data": {
            "text/plain": [
              "[1, 66.25, 1234.5]"
            ]
          },
          "metadata": {},
          "execution_count": 36
        }
      ]
    },
    {
      "cell_type": "code",
      "source": [
        "del a[:]\n",
        "a"
      ],
      "metadata": {
        "colab": {
          "base_uri": "https://localhost:8080/"
        },
        "id": "eQeqX8-nsYiL",
        "outputId": "4e745c02-e4e6-4c98-b4de-67d89eae3c0f"
      },
      "execution_count": null,
      "outputs": [
        {
          "output_type": "execute_result",
          "data": {
            "text/plain": [
              "[]"
            ]
          },
          "metadata": {},
          "execution_count": 37
        }
      ]
    },
    {
      "cell_type": "code",
      "source": [
        "del a # 변수 자체를 삭제하는데에도 사용\n",
        "# a # 이후에 a를 참조하는 것은 에러"
      ],
      "metadata": {
        "id": "_zlp1AHesk9r"
      },
      "execution_count": null,
      "outputs": []
    },
    {
      "cell_type": "markdown",
      "source": [
        "# 5.3 튜플과 시퀀스"
      ],
      "metadata": {
        "id": "APpHwBU4kohx"
      }
    },
    {
      "cell_type": "code",
      "source": [
        "\n",
        "# 시퀀스 자료형(list, tuple, range, string..): 인덱싱, 슬라이싱 연산 등의 성질을 공유함\n",
        "t = 12345, 54321, 'hello!' # 튜플은 쉼표로 구분\n",
        "t[0]"
      ],
      "metadata": {
        "colab": {
          "base_uri": "https://localhost:8080/"
        },
        "id": "AyvxW-2Io9rG",
        "outputId": "cc2c0dfa-c349-406c-c637-f97fc5e0fd4a"
      },
      "execution_count": null,
      "outputs": [
        {
          "output_type": "execute_result",
          "data": {
            "text/plain": [
              "12345"
            ]
          },
          "metadata": {},
          "execution_count": 42
        }
      ]
    },
    {
      "cell_type": "code",
      "source": [
        "t"
      ],
      "metadata": {
        "colab": {
          "base_uri": "https://localhost:8080/"
        },
        "id": "XzSuSmIQo_wG",
        "outputId": "f2b397c1-3f06-4455-e61f-90a69e127eb4"
      },
      "execution_count": null,
      "outputs": [
        {
          "output_type": "execute_result",
          "data": {
            "text/plain": [
              "(12345, 54321, 'hello!')"
            ]
          },
          "metadata": {},
          "execution_count": 43
        }
      ]
    },
    {
      "cell_type": "code",
      "source": [
        "u = t, (1,2,3,4,5)\n",
        "u"
      ],
      "metadata": {
        "colab": {
          "base_uri": "https://localhost:8080/"
        },
        "id": "nXtq3uu7tVAG",
        "outputId": "0f894bba-b849-4c16-d6e7-f793be81bfc7"
      },
      "execution_count": null,
      "outputs": [
        {
          "output_type": "execute_result",
          "data": {
            "text/plain": [
              "((12345, 54321, 'hello!'), (1, 2, 3, 4, 5))"
            ]
          },
          "metadata": {},
          "execution_count": 44
        }
      ]
    },
    {
      "cell_type": "code",
      "source": [
        "# t[0]=8888 # 튜플은 불변"
      ],
      "metadata": {
        "id": "Q9o9JHbutL75"
      },
      "execution_count": null,
      "outputs": []
    },
    {
      "cell_type": "code",
      "source": [
        "# 그러나 튜플은 가변객체인 리스트를 포함할 수 있다.\n",
        "v=([1,2,3],[3,2,1])\n",
        "v[0][1] = 4\n",
        "v"
      ],
      "metadata": {
        "colab": {
          "base_uri": "https://localhost:8080/"
        },
        "id": "CAJgUioOtLym",
        "outputId": "4061555e-0d8a-4c85-8c4b-52287115da1b"
      },
      "execution_count": null,
      "outputs": [
        {
          "output_type": "execute_result",
          "data": {
            "text/plain": [
              "([1, 4, 3], [3, 2, 1])"
            ]
          },
          "metadata": {},
          "execution_count": 46
        }
      ]
    },
    {
      "cell_type": "code",
      "source": [
        "# 빈 튜플은 빈 괄호 쌍\n",
        "empty = ()\n",
        "singleton = 'hello',\n",
        "string = 'hello'\n",
        "print(len(empty))\n",
        "print(len(singleton)) # 쉼표 있으면 한개짜리 튜플이 됨\n",
        "print(len(string)) # 쉼표 없으면 그냥 문자열임\n",
        "singleton, string\n",
        "\n",
        "\n",
        "# 하나의 항목으로 구성된 튜플은 값 뒤에 쉼표"
      ],
      "metadata": {
        "colab": {
          "base_uri": "https://localhost:8080/"
        },
        "id": "fZK2Xggru3L_",
        "outputId": "243d144b-8d85-46c6-83cf-af73a50df8e0"
      },
      "execution_count": null,
      "outputs": [
        {
          "output_type": "stream",
          "name": "stdout",
          "text": [
            "0\n",
            "1\n",
            "5\n"
          ]
        },
        {
          "output_type": "execute_result",
          "data": {
            "text/plain": [
              "(('hello',), 'hello')"
            ]
          },
          "metadata": {},
          "execution_count": 56
        }
      ]
    },
    {
      "cell_type": "code",
      "source": [
        "# 튜플 패킹\n",
        "t = 12345, 54321, 'hello!'\n",
        "t"
      ],
      "metadata": {
        "colab": {
          "base_uri": "https://localhost:8080/"
        },
        "id": "RQ1y40bvv86x",
        "outputId": "0a8fd602-0aa2-48fc-f5d0-8478768c143c"
      },
      "execution_count": null,
      "outputs": [
        {
          "output_type": "execute_result",
          "data": {
            "text/plain": [
              "(12345, 54321, 'hello!')"
            ]
          },
          "metadata": {},
          "execution_count": 51
        }
      ]
    },
    {
      "cell_type": "code",
      "source": [
        "x, y, z = t\n",
        "x, y, z # 시퀀스 언 패킹. 튜플이 세 개의 변수에 나눠 들어감. 좌우 같은 개수의 변수가 와야함."
      ],
      "metadata": {
        "colab": {
          "base_uri": "https://localhost:8080/"
        },
        "id": "GRuPvKzIwBfi",
        "outputId": "365090ac-641d-4b4a-9625-0bb1292a8e87"
      },
      "execution_count": null,
      "outputs": [
        {
          "output_type": "execute_result",
          "data": {
            "text/plain": [
              "(12345, 54321, 'hello!')"
            ]
          },
          "metadata": {},
          "execution_count": 55
        }
      ]
    },
    {
      "cell_type": "markdown",
      "source": [
        "# 5.4 집합"
      ],
      "metadata": {
        "id": "HT7A-wuQkrT6"
      }
    },
    {
      "cell_type": "code",
      "source": [
        "\n",
        "#  집합은 중복되는 요소가 없는 순서 없는 컬렉션\n",
        "# 용도: 멤버십 검사와 중복 엔트리 제거\n",
        "# 집합을 만들 때는 중괄호나 set() 함수를 사용, 빈 집합은 항상 set() 사용\n",
        "basket = {'apple', 'orange', 'apple', 'pear', 'orange', 'banana'}\n",
        "print(basket)\n"
      ],
      "metadata": {
        "colab": {
          "base_uri": "https://localhost:8080/"
        },
        "id": "rciMyqu-o_to",
        "outputId": "d5756b89-df7a-45fd-e261-7056b4bf573b"
      },
      "execution_count": null,
      "outputs": [
        {
          "output_type": "stream",
          "name": "stdout",
          "text": [
            "{'pear', 'apple', 'orange', 'banana'}\n"
          ]
        }
      ]
    },
    {
      "cell_type": "code",
      "source": [
        "'orange' in basket"
      ],
      "metadata": {
        "colab": {
          "base_uri": "https://localhost:8080/"
        },
        "id": "p6wV_6mNw6mu",
        "outputId": "c5ce63f0-40b4-4aa6-ed2c-9304c582685d"
      },
      "execution_count": null,
      "outputs": [
        {
          "output_type": "execute_result",
          "data": {
            "text/plain": [
              "True"
            ]
          },
          "metadata": {},
          "execution_count": 59
        }
      ]
    },
    {
      "cell_type": "code",
      "source": [
        "'crabgrass' in basket"
      ],
      "metadata": {
        "colab": {
          "base_uri": "https://localhost:8080/"
        },
        "id": "MMkdYpx5xz88",
        "outputId": "c19b75d6-f6cc-4459-b737-f3af74c717a1"
      },
      "execution_count": null,
      "outputs": [
        {
          "output_type": "execute_result",
          "data": {
            "text/plain": [
              "False"
            ]
          },
          "metadata": {},
          "execution_count": 60
        }
      ]
    },
    {
      "cell_type": "code",
      "source": [
        "a = set('abracadabra')\n",
        "b = set('alacazam')\n",
        "a"
      ],
      "metadata": {
        "colab": {
          "base_uri": "https://localhost:8080/"
        },
        "id": "8lc4ExHFxz6X",
        "outputId": "5e375174-04cb-4fe0-f1ef-97654b5ec156"
      },
      "execution_count": null,
      "outputs": [
        {
          "output_type": "execute_result",
          "data": {
            "text/plain": [
              "{'a', 'b', 'c', 'd', 'r'}"
            ]
          },
          "metadata": {},
          "execution_count": 61
        }
      ]
    },
    {
      "cell_type": "code",
      "source": [
        "a-b"
      ],
      "metadata": {
        "colab": {
          "base_uri": "https://localhost:8080/"
        },
        "id": "acZbO3hYyJlT",
        "outputId": "ee922bf6-e1ba-48d5-b946-13fa018a93f6"
      },
      "execution_count": null,
      "outputs": [
        {
          "output_type": "execute_result",
          "data": {
            "text/plain": [
              "{'b', 'd', 'r'}"
            ]
          },
          "metadata": {},
          "execution_count": 62
        }
      ]
    },
    {
      "cell_type": "code",
      "source": [
        "a | b # OR: letters in a or b or both "
      ],
      "metadata": {
        "colab": {
          "base_uri": "https://localhost:8080/"
        },
        "id": "QUmBnCnXyLl-",
        "outputId": "a8945e89-a8e0-45b5-98be-f9767ea5be46"
      },
      "execution_count": null,
      "outputs": [
        {
          "output_type": "execute_result",
          "data": {
            "text/plain": [
              "{'a', 'b', 'c', 'd', 'l', 'm', 'r', 'z'}"
            ]
          },
          "metadata": {},
          "execution_count": 63
        }
      ]
    },
    {
      "cell_type": "code",
      "source": [
        "a & b # AND: letters in both a and b"
      ],
      "metadata": {
        "colab": {
          "base_uri": "https://localhost:8080/"
        },
        "id": "VYx_EhZ6yLjU",
        "outputId": "a01f6fd7-d9d6-400e-ba85-39ba4bb988d9"
      },
      "execution_count": null,
      "outputs": [
        {
          "output_type": "execute_result",
          "data": {
            "text/plain": [
              "{'a', 'c'}"
            ]
          },
          "metadata": {},
          "execution_count": 64
        }
      ]
    },
    {
      "cell_type": "code",
      "source": [
        "a ^ b # letters in a or b but not both"
      ],
      "metadata": {
        "colab": {
          "base_uri": "https://localhost:8080/"
        },
        "id": "UhUFyE_byP7t",
        "outputId": "872e6c81-b4af-4671-8fd2-a8f8cddcfd60"
      },
      "execution_count": null,
      "outputs": [
        {
          "output_type": "execute_result",
          "data": {
            "text/plain": [
              "{'b', 'd', 'l', 'm', 'r', 'z'}"
            ]
          },
          "metadata": {},
          "execution_count": 65
        }
      ]
    },
    {
      "cell_type": "code",
      "source": [
        "# 집합 컴프리헨션\n",
        "a = { x for x in 'abracadabra' if x not in 'abc'}\n",
        "a"
      ],
      "metadata": {
        "colab": {
          "base_uri": "https://localhost:8080/"
        },
        "id": "xt5NdOMJyejX",
        "outputId": "b2400ed6-5823-4c48-af27-3d8a38834222"
      },
      "execution_count": null,
      "outputs": [
        {
          "output_type": "execute_result",
          "data": {
            "text/plain": [
              "{'d', 'r'}"
            ]
          },
          "metadata": {},
          "execution_count": 66
        }
      ]
    },
    {
      "cell_type": "markdown",
      "source": [
        "# 5.5 딕셔너리"
      ],
      "metadata": {
        "id": "GBKH-7EXktIZ"
      }
    },
    {
      "cell_type": "code",
      "source": [
        "\n",
        "# 딕셔너리는 키 로 인덱싱, \n",
        "# key: 문자열과 숫자O, 모든 불변형을 사용가능, 튜플O, 그러나 튜플이 직간접적으로 가변객체를 포함하면X, 리스트x\n",
        "tel = {'jack': 4098, 'sape': 4139} # 키:값\n",
        "tel['guido'] = 4127\n",
        "tel"
      ],
      "metadata": {
        "colab": {
          "base_uri": "https://localhost:8080/"
        },
        "id": "LVdQILVOo_rS",
        "outputId": "8081a8e4-e64a-4a8c-abea-73f18877938a"
      },
      "execution_count": null,
      "outputs": [
        {
          "output_type": "execute_result",
          "data": {
            "text/plain": [
              "{'guido': 4127, 'jack': 4098, 'sape': 4139}"
            ]
          },
          "metadata": {},
          "execution_count": 1
        }
      ]
    },
    {
      "cell_type": "code",
      "source": [
        "tel['jack']"
      ],
      "metadata": {
        "id": "_uIIbWdSFOt7"
      },
      "execution_count": null,
      "outputs": []
    },
    {
      "cell_type": "code",
      "source": [
        "del tel['sape'] # 삭제.\n",
        "tel"
      ],
      "metadata": {
        "colab": {
          "base_uri": "https://localhost:8080/"
        },
        "id": "2lB74BCkFRjj",
        "outputId": "96840ed4-c412-497e-bbbd-a1a283ea6a1f"
      },
      "execution_count": null,
      "outputs": [
        {
          "output_type": "execute_result",
          "data": {
            "text/plain": [
              "{'guido': 4127, 'jack': 4098}"
            ]
          },
          "metadata": {},
          "execution_count": 2
        }
      ]
    },
    {
      "cell_type": "code",
      "source": [
        "tel['irv'] = 4127 # 삽입 순서대로 들어가는건 아니구나\n",
        "tel"
      ],
      "metadata": {
        "colab": {
          "base_uri": "https://localhost:8080/"
        },
        "id": "ZveV7dYtFllq",
        "outputId": "58dfa1a5-a5c6-4f3e-9e1f-2795ff2bcc7e"
      },
      "execution_count": null,
      "outputs": [
        {
          "output_type": "execute_result",
          "data": {
            "text/plain": [
              "{'guido': 4127, 'irv': 4127, 'jack': 4098}"
            ]
          },
          "metadata": {},
          "execution_count": 7
        }
      ]
    },
    {
      "cell_type": "code",
      "source": [
        "list(tel) # 모든 키값을 삽입 순서대로 보여준다"
      ],
      "metadata": {
        "colab": {
          "base_uri": "https://localhost:8080/"
        },
        "id": "gFLf6Dg6GEOP",
        "outputId": "6b5013ac-c0b1-4754-9839-823a88efa7be"
      },
      "execution_count": null,
      "outputs": [
        {
          "output_type": "execute_result",
          "data": {
            "text/plain": [
              "['jack', 'guido', 'irv']"
            ]
          },
          "metadata": {},
          "execution_count": 8
        }
      ]
    },
    {
      "cell_type": "code",
      "source": [
        "sorted(tel) # key를 알파벳 순서대로 정렬"
      ],
      "metadata": {
        "colab": {
          "base_uri": "https://localhost:8080/"
        },
        "id": "SGwtL6XnGELu",
        "outputId": "cc17ada1-cb47-4852-9825-5321d8265161"
      },
      "execution_count": null,
      "outputs": [
        {
          "output_type": "execute_result",
          "data": {
            "text/plain": [
              "['guido', 'irv', 'jack']"
            ]
          },
          "metadata": {},
          "execution_count": 9
        }
      ]
    },
    {
      "cell_type": "code",
      "source": [
        "'guido' in tel"
      ],
      "metadata": {
        "colab": {
          "base_uri": "https://localhost:8080/"
        },
        "id": "JJQx3OytGjR2",
        "outputId": "3680043e-c795-4187-b50a-0177546712de"
      },
      "execution_count": null,
      "outputs": [
        {
          "output_type": "execute_result",
          "data": {
            "text/plain": [
              "True"
            ]
          },
          "metadata": {},
          "execution_count": 10
        }
      ]
    },
    {
      "cell_type": "code",
      "source": [
        "'jack' not in tel"
      ],
      "metadata": {
        "colab": {
          "base_uri": "https://localhost:8080/"
        },
        "id": "2Hoan5xbGjOS",
        "outputId": "c1404960-7ad9-4960-980e-248e75dcd181"
      },
      "execution_count": null,
      "outputs": [
        {
          "output_type": "execute_result",
          "data": {
            "text/plain": [
              "False"
            ]
          },
          "metadata": {},
          "execution_count": 11
        }
      ]
    },
    {
      "cell_type": "code",
      "source": [
        "# dict() 생성자는 키-값 쌍들의 시퀀스로 부터 직접 딕셔너리를 구성\n",
        "dict([('sape', 4139), ('guido', 4127), ('jack', 4098)]) "
      ],
      "metadata": {
        "id": "wkAylwKBGrbD"
      },
      "execution_count": null,
      "outputs": []
    },
    {
      "cell_type": "code",
      "source": [
        " # 딕셔너리 컴프리헨션은 임의의 키와 값 표현식들로 부터 딕셔너리를 만드는데 사용\n",
        " {x: x**2 for x in (2,4,6)}"
      ],
      "metadata": {
        "colab": {
          "base_uri": "https://localhost:8080/"
        },
        "id": "E-HQBa01GrXk",
        "outputId": "f42716f9-ce0d-4f98-ddf9-faf12c905c41"
      },
      "execution_count": null,
      "outputs": [
        {
          "output_type": "execute_result",
          "data": {
            "text/plain": [
              "{2: 4, 4: 16, 6: 36}"
            ]
          },
          "metadata": {},
          "execution_count": 12
        }
      ]
    },
    {
      "cell_type": "code",
      "source": [
        "# 키가 간단한 문자열일 때, 때로 키워드 인자들을 사용해서 쌍을 지정가능\n",
        "dict(sape=4139, guido=4127, jack=4098)"
      ],
      "metadata": {
        "id": "UE2c1uhmG8qQ"
      },
      "execution_count": null,
      "outputs": []
    },
    {
      "cell_type": "markdown",
      "source": [
        "# 5.6 루프 테크닉"
      ],
      "metadata": {
        "id": "hg_nZN-MkwA3"
      }
    },
    {
      "cell_type": "code",
      "source": [
        "\n",
        "# 딕셔너리 루핑: items(), 키와 대응하는 값\n",
        "knights = {'gallahad': 'the pure', 'robin': 'the brave'}\n",
        "for k, v in knights.items():\n",
        "  print(k,'-', v)"
      ],
      "metadata": {
        "colab": {
          "base_uri": "https://localhost:8080/"
        },
        "id": "fBteUjQnpFNy",
        "outputId": "f28c61b0-b10c-43c3-ff7c-f83fbabafa01"
      },
      "execution_count": null,
      "outputs": [
        {
          "output_type": "stream",
          "name": "stdout",
          "text": [
            "gallahad - the pure\n",
            "robin - the brave\n"
          ]
        }
      ]
    },
    {
      "cell_type": "code",
      "source": [
        "# 시퀀스 루핑: enumerate(), 위치 인덱스와 대응하는 값\n",
        "for i, v in enumerate(['tic','tac','toe']):\n",
        "  print(i, v)"
      ],
      "metadata": {
        "id": "0wOVCzN6GrSS"
      },
      "execution_count": null,
      "outputs": []
    },
    {
      "cell_type": "code",
      "source": [
        "# 둘이나 그 이상의 시퀀스를 동시에 루핑하려면, zip() 함수로 엔트리들의 쌍을 만들 수 있음\n",
        "questions = ['name', 'quest', 'favorite color']\n",
        "answers = ['lancelot', 'the holy grail', 'blue']\n",
        "for q, a in zip(questions, answers):\n",
        "  print('What is your {0}? It is {1}.'.format(q,a))"
      ],
      "metadata": {
        "colab": {
          "base_uri": "https://localhost:8080/"
        },
        "id": "hjHmvnkVpFLV",
        "outputId": "3ea1ac89-de51-483d-dcac-adc3ac5e315d"
      },
      "execution_count": null,
      "outputs": [
        {
          "output_type": "stream",
          "name": "stdout",
          "text": [
            "What is your name? It is lancelot.\n",
            "What is your quest? It is the holy grail.\n",
            "What is your favorite color? It is blue.\n"
          ]
        }
      ]
    },
    {
      "cell_type": "code",
      "source": [
        "for i in reversed(range(1, 10, 2)):\n",
        "  print(i)"
      ],
      "metadata": {
        "colab": {
          "base_uri": "https://localhost:8080/"
        },
        "id": "KBJsl_8MMMag",
        "outputId": "31036584-abe2-4dd4-cee2-4b28fd7d241b"
      },
      "execution_count": null,
      "outputs": [
        {
          "output_type": "stream",
          "name": "stdout",
          "text": [
            "9\n",
            "7\n",
            "5\n",
            "3\n",
            "1\n"
          ]
        }
      ]
    },
    {
      "cell_type": "code",
      "source": [
        "basket = ['apple', 'orange', 'apple', 'pear', 'orange', 'banana']\n",
        "for i in sorted(basket):\n",
        "  print(i)\n",
        "basket # 원래 basket은 건드리지않음\n",
        "# basket.sort() # 원래 basket자체를 sorting하는 메소드"
      ],
      "metadata": {
        "colab": {
          "base_uri": "https://localhost:8080/"
        },
        "id": "kIQkAsbWMMX-",
        "outputId": "5e1e707b-7429-4614-b161-9f51685e455c"
      },
      "execution_count": null,
      "outputs": [
        {
          "output_type": "stream",
          "name": "stdout",
          "text": [
            "apple\n",
            "apple\n",
            "banana\n",
            "orange\n",
            "orange\n",
            "pear\n"
          ]
        },
        {
          "output_type": "execute_result",
          "data": {
            "text/plain": [
              "['apple', 'orange', 'apple', 'pear', 'orange', 'banana']"
            ]
          },
          "metadata": {},
          "execution_count": 21
        }
      ]
    },
    {
      "cell_type": "code",
      "source": [
        "# set() 중복요소 제거\n",
        "basket = ['apple', 'orange', 'apple', 'pear', 'orange', 'banana']\n",
        "for f in sorted(set(basket)):\n",
        "  print(f)"
      ],
      "metadata": {
        "colab": {
          "base_uri": "https://localhost:8080/"
        },
        "id": "UStYMwbMMMU6",
        "outputId": "7d7662b1-8b09-4469-8956-cd68135a5910"
      },
      "execution_count": null,
      "outputs": [
        {
          "output_type": "stream",
          "name": "stdout",
          "text": [
            "apple\n",
            "banana\n",
            "orange\n",
            "pear\n"
          ]
        }
      ]
    },
    {
      "cell_type": "code",
      "source": [
        "# 루프를 돌고있는 리스트를 변경하는 것은 안전하지않음. 새 리스트 만들기\n",
        "import math\n",
        "raw_data = [56.2, float('NaN'), 51.7, 55.3, 52.5, float('NaN'), 47.8]\n",
        "filtered_data = []\n",
        "for value in raw_data:\n",
        "  if not math.isnan(value):\n",
        "    filtered_data.append(value)\n",
        "filtered_data"
      ],
      "metadata": {
        "colab": {
          "base_uri": "https://localhost:8080/"
        },
        "id": "XsRNi5BPP5Ad",
        "outputId": "ca815af1-f050-4990-aaaf-ab5cef04a52a"
      },
      "execution_count": null,
      "outputs": [
        {
          "output_type": "execute_result",
          "data": {
            "text/plain": [
              "[56.2, 51.7, 55.3, 52.5, 47.8]"
            ]
          },
          "metadata": {},
          "execution_count": 24
        }
      ]
    },
    {
      "cell_type": "markdown",
      "source": [
        "# 5.7 조건 더 보기"
      ],
      "metadata": {
        "id": "c5RVFFpekySK"
      }
    },
    {
      "cell_type": "code",
      "source": [
        "\n",
        "# 우선순위: (not - and - or), 예시:  A and not B or C = (A and (not B)) or C\n",
        "string1, string2, string3 = '', 'Hammer Dance', 'Trondheim'\n",
        "non_null = string1 or string2 or string3\n",
        "non_null # 왼쪽에서 오른쪽으로 값이 구해지고, 결과가 결정되자마자 값 구하기는 중단됨."
      ],
      "metadata": {
        "colab": {
          "base_uri": "https://localhost:8080/",
          "height": 35
        },
        "id": "XVxmHPwcpFlr",
        "outputId": "ff41eb0d-611c-4c7e-fe23-9d329b5dde60"
      },
      "execution_count": null,
      "outputs": [
        {
          "output_type": "execute_result",
          "data": {
            "application/vnd.google.colaboratory.intrinsic+json": {
              "type": "string"
            },
            "text/plain": [
              "'Hammer Dance'"
            ]
          },
          "metadata": {},
          "execution_count": 26
        }
      ]
    },
    {
      "cell_type": "markdown",
      "source": [
        "# 5.8 시퀀스와 다른 형들을 비교하기"
      ],
      "metadata": {
        "id": "CLP-Tv2Nkzmh"
      }
    },
    {
      "cell_type": "code",
      "source": [
        "\n",
        "# 먼저 첫 두 항목을 비교해서 다르면 이것이 비교의 결과를 결정합니다; 같으면, 다음 두 항목을 비교하고, 이런 식으로 어느 한 시퀀스가 소진될 때까지 계속합니다. \n",
        "(1, 2, 3) < (1, 2, 4)"
      ],
      "metadata": {
        "colab": {
          "base_uri": "https://localhost:8080/"
        },
        "id": "4GZlgWwgpFjl",
        "outputId": "aae29116-1f70-4d3f-f337-b677a15be44d"
      },
      "execution_count": null,
      "outputs": [
        {
          "output_type": "execute_result",
          "data": {
            "text/plain": [
              "True"
            ]
          },
          "metadata": {},
          "execution_count": 27
        }
      ]
    },
    {
      "cell_type": "code",
      "source": [
        "[1, 2, 3]              < [1, 2, 4]"
      ],
      "metadata": {
        "colab": {
          "base_uri": "https://localhost:8080/"
        },
        "id": "ELkhCgxGVxpl",
        "outputId": "da48cef5-6ade-41a8-edbf-09980cdc9c4a"
      },
      "execution_count": null,
      "outputs": [
        {
          "output_type": "execute_result",
          "data": {
            "text/plain": [
              "True"
            ]
          },
          "metadata": {},
          "execution_count": 28
        }
      ]
    },
    {
      "cell_type": "code",
      "source": [
        "'ABC' > 'ABB'"
      ],
      "metadata": {
        "colab": {
          "base_uri": "https://localhost:8080/"
        },
        "id": "bfV2FcmRVxly",
        "outputId": "cbe98611-402b-421f-d42a-257aba19a805"
      },
      "execution_count": null,
      "outputs": [
        {
          "output_type": "execute_result",
          "data": {
            "text/plain": [
              "True"
            ]
          },
          "metadata": {},
          "execution_count": 40
        }
      ]
    },
    {
      "cell_type": "code",
      "source": [
        "'ABC' < 'C' < 'Pascal' < 'Python'"
      ],
      "metadata": {
        "colab": {
          "base_uri": "https://localhost:8080/"
        },
        "id": "pnva-JNqWYav",
        "outputId": "c77ebc42-9aaa-4e19-bca9-56e4e49d119b"
      },
      "execution_count": null,
      "outputs": [
        {
          "output_type": "execute_result",
          "data": {
            "text/plain": [
              "True"
            ]
          },
          "metadata": {},
          "execution_count": 42
        }
      ]
    },
    {
      "cell_type": "code",
      "source": [
        "'Pascal' < 'Python'"
      ],
      "metadata": {
        "colab": {
          "base_uri": "https://localhost:8080/"
        },
        "id": "amWRHevKWNwQ",
        "outputId": "3ec2864e-7235-4763-bbac-e08ddd7c53e6"
      },
      "execution_count": null,
      "outputs": [
        {
          "output_type": "execute_result",
          "data": {
            "text/plain": [
              "True"
            ]
          },
          "metadata": {},
          "execution_count": 41
        }
      ]
    },
    {
      "cell_type": "code",
      "source": [
        "(1, 2, 3, 4)           < (1, 2, 4)"
      ],
      "metadata": {
        "colab": {
          "base_uri": "https://localhost:8080/"
        },
        "id": "WdqDkNEYV0GN",
        "outputId": "512a5cf7-d6fe-4e14-f0cd-e7d32e1c4ae6"
      },
      "execution_count": null,
      "outputs": [
        {
          "output_type": "execute_result",
          "data": {
            "text/plain": [
              "True"
            ]
          },
          "metadata": {},
          "execution_count": 30
        }
      ]
    },
    {
      "cell_type": "code",
      "source": [
        "(1, 2)                 < (1, 2, -1)"
      ],
      "metadata": {
        "colab": {
          "base_uri": "https://localhost:8080/"
        },
        "id": "oEV_bfQLVze_",
        "outputId": "caf9131b-4f1e-4109-8714-109c71c37541"
      },
      "execution_count": null,
      "outputs": [
        {
          "output_type": "execute_result",
          "data": {
            "text/plain": [
              "True"
            ]
          },
          "metadata": {},
          "execution_count": 31
        }
      ]
    },
    {
      "cell_type": "code",
      "source": [
        "(1, 2, 3)             == (1.0, 2.0, 3.0)"
      ],
      "metadata": {
        "colab": {
          "base_uri": "https://localhost:8080/"
        },
        "id": "FK8GdZZuVxiC",
        "outputId": "fc19e055-7e0f-4508-d28c-2f0b94ce2791"
      },
      "execution_count": null,
      "outputs": [
        {
          "output_type": "execute_result",
          "data": {
            "text/plain": [
              "True"
            ]
          },
          "metadata": {},
          "execution_count": 33
        }
      ]
    },
    {
      "cell_type": "code",
      "source": [
        "(1, 2, ('aa', 'ab'))   < (1, 2, ('abc', 'a'),4)"
      ],
      "metadata": {
        "colab": {
          "base_uri": "https://localhost:8080/"
        },
        "id": "cn12AGAqWB-Y",
        "outputId": "0b030a02-587f-4be9-b7ff-2b467378c64b"
      },
      "execution_count": null,
      "outputs": [
        {
          "output_type": "execute_result",
          "data": {
            "text/plain": [
              "True"
            ]
          },
          "metadata": {},
          "execution_count": 35
        }
      ]
    }
  ]
}