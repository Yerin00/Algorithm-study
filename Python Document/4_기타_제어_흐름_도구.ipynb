{
  "nbformat": 4,
  "nbformat_minor": 0,
  "metadata": {
    "colab": {
      "name": "기타 제어 흐름 도구.ipynb",
      "provenance": [],
      "collapsed_sections": []
    },
    "kernelspec": {
      "name": "python3",
      "display_name": "Python 3"
    },
    "language_info": {
      "name": "python"
    }
  },
  "cells": [
    {
      "cell_type": "markdown",
      "source": [
        "# 4.1 if 문"
      ],
      "metadata": {
        "id": "5RkEZrsShcmk"
      }
    },
    {
      "cell_type": "code",
      "execution_count": null,
      "metadata": {
        "id": "upt5-W3Vl87-",
        "colab": {
          "base_uri": "https://localhost:8080/"
        },
        "outputId": "baa0dd32-2c13-4005-d9e0-b25be9533c85"
      },
      "outputs": [
        {
          "output_type": "stream",
          "name": "stdout",
          "text": [
            "Please enter an integer: 3\n",
            "More\n"
          ]
        }
      ],
      "source": [
        "\n",
        "x = int(input(\"Please enter an integer: \"))\n",
        "if x<0 :\n",
        "  x=0\n",
        "  print('Negative changed to zero')\n",
        "elif x == 0:\n",
        "  print('Zero')\n",
        "elif x ==1:\n",
        "  print('Single')\n",
        "else:\n",
        "  print('More')"
      ]
    },
    {
      "cell_type": "markdown",
      "source": [
        "# 4.2 for 문"
      ],
      "metadata": {
        "id": "0ze3il40hjZF"
      }
    },
    {
      "cell_type": "code",
      "source": [
        "\n",
        "words = ['cat', 'window', 'defenestrate']\n",
        "for w in words:\n",
        "  print(w,len(w))"
      ],
      "metadata": {
        "colab": {
          "base_uri": "https://localhost:8080/"
        },
        "id": "mhpH0d7Um1Jq",
        "outputId": "c9649c3a-6add-417f-83f7-d7606e54945e"
      },
      "execution_count": null,
      "outputs": [
        {
          "output_type": "stream",
          "name": "stdout",
          "text": [
            "cat 3\n",
            "window 6\n",
            "defenestrate 12\n"
          ]
        }
      ]
    },
    {
      "cell_type": "code",
      "source": [
        "# 컬렉션을 이터레이트 하는 동안 같은 컬렉션을 수정하는 코드는 올바르게 동작하도록 만들기 힘듭니다. 대신, 보통 컬렉션의 복사본으로 루프를 만들거나 새 컬렉션을 만드는 것이 더 간단합니다\n",
        "users = {'Hans': 'active', 'Éléonore': 'inactive', '景太郎': 'active'}\n",
        "\n",
        "# Strategy:  Iterate over a copy 복사본으로 루프를 만듦\n",
        "for user, status in users.copy().items():\n",
        "  if status == 'inactive':\n",
        "    del users[user]\n",
        "\n",
        "users"
      ],
      "metadata": {
        "colab": {
          "base_uri": "https://localhost:8080/"
        },
        "id": "LdBDQkSum1HN",
        "outputId": "91da4e76-6b18-4673-cfaf-3f9d97a00780"
      },
      "execution_count": null,
      "outputs": [
        {
          "output_type": "execute_result",
          "data": {
            "text/plain": [
              "{'Hans': 'active', '景太郎': 'active'}"
            ]
          },
          "metadata": {},
          "execution_count": 6
        }
      ]
    },
    {
      "cell_type": "code",
      "source": [
        "# Strategy:  Create a new collection 새 컬렉션을 만듦\n",
        "active_users = {}\n",
        "for user, status in users.items():\n",
        "  if status == 'active':\n",
        "    active_users[user] = status\n",
        "active_users"
      ],
      "metadata": {
        "colab": {
          "base_uri": "https://localhost:8080/"
        },
        "id": "kzTSVkTjm1E5",
        "outputId": "cf199b4d-43c9-443a-d8fb-5cabedb9cd30"
      },
      "execution_count": null,
      "outputs": [
        {
          "output_type": "execute_result",
          "data": {
            "text/plain": [
              "{'Hans': 'active', '景太郎': 'active'}"
            ]
          },
          "metadata": {},
          "execution_count": 8
        }
      ]
    },
    {
      "cell_type": "markdown",
      "source": [
        "# 4.3 range() 함수"
      ],
      "metadata": {
        "id": "jNvHySoFhoXr"
      }
    },
    {
      "cell_type": "code",
      "source": [
        "for i in range(5): # 수열을 만들어줌, 끝값은 포함x\n",
        "  print(i)"
      ],
      "metadata": {
        "colab": {
          "base_uri": "https://localhost:8080/"
        },
        "id": "5ZVpR8kem1CZ",
        "outputId": "a64bb10b-a514-4b9f-c687-adee59b56427"
      },
      "execution_count": null,
      "outputs": [
        {
          "output_type": "stream",
          "name": "stdout",
          "text": [
            "0\n",
            "1\n",
            "2\n",
            "3\n",
            "4\n"
          ]
        }
      ]
    },
    {
      "cell_type": "code",
      "source": [
        "list(range(5,10))"
      ],
      "metadata": {
        "colab": {
          "base_uri": "https://localhost:8080/"
        },
        "id": "jJwulqM1m0_n",
        "outputId": "fdd0736c-ea64-4973-c92b-b6a2505ab904"
      },
      "execution_count": null,
      "outputs": [
        {
          "output_type": "execute_result",
          "data": {
            "text/plain": [
              "[5, 6, 7, 8, 9]"
            ]
          },
          "metadata": {},
          "execution_count": 10
        }
      ]
    },
    {
      "cell_type": "code",
      "source": [
        "list(range(0,10,3))"
      ],
      "metadata": {
        "colab": {
          "base_uri": "https://localhost:8080/"
        },
        "id": "4BHpd4pHm09g",
        "outputId": "13c89943-e047-46a7-ce4c-02771ccf38c5"
      },
      "execution_count": null,
      "outputs": [
        {
          "output_type": "execute_result",
          "data": {
            "text/plain": [
              "[0, 3, 6, 9]"
            ]
          },
          "metadata": {},
          "execution_count": 11
        }
      ]
    },
    {
      "cell_type": "code",
      "source": [
        "list(range(-10,-100,-30)) # 음수도 가능"
      ],
      "metadata": {
        "colab": {
          "base_uri": "https://localhost:8080/"
        },
        "id": "WYXENx12m067",
        "outputId": "5d85649d-de22-4665-a717-d2fd71948894"
      },
      "execution_count": null,
      "outputs": [
        {
          "output_type": "execute_result",
          "data": {
            "text/plain": [
              "[-10, -40, -70]"
            ]
          },
          "metadata": {},
          "execution_count": 12
        }
      ]
    },
    {
      "cell_type": "code",
      "source": [
        "a = ['Mary', 'had', 'a', 'little', 'lamb'] # 시퀀스의 인덱스들로 이터레이트 하려면, 다음처럼 range()와 len() 을 결합할 수 있음 그러나\n",
        "for i in range(len(a)):\n",
        "  print(i,a[i])"
      ],
      "metadata": {
        "colab": {
          "base_uri": "https://localhost:8080/"
        },
        "id": "qr8oZi56m04q",
        "outputId": "4bdf5fd4-48ca-4768-b365-fd6fb9e4deb5"
      },
      "execution_count": null,
      "outputs": [
        {
          "output_type": "stream",
          "name": "stdout",
          "text": [
            "0 Mary\n",
            "1 had\n",
            "2 a\n",
            "3 little\n",
            "4 lamb\n"
          ]
        }
      ]
    },
    {
      "cell_type": "code",
      "source": [
        "# enumerate() 함수를 쓰는 것이 편리하다.\n",
        "for i in list(enumerate(a)) :\n",
        "  print(i)"
      ],
      "metadata": {
        "colab": {
          "base_uri": "https://localhost:8080/"
        },
        "id": "xJTyF9RSm02H",
        "outputId": "cf202a99-a973-4e2c-f7bf-40afaae8901c"
      },
      "execution_count": null,
      "outputs": [
        {
          "output_type": "stream",
          "name": "stdout",
          "text": [
            "(0, 'Mary')\n",
            "(1, 'had')\n",
            "(2, 'a')\n",
            "(3, 'little')\n",
            "(4, 'lamb')\n"
          ]
        }
      ]
    },
    {
      "cell_type": "code",
      "source": [
        "range(10) # 리스트가 아님. 실제로 리스트를 만들지x 공간절약-> 이터러블"
      ],
      "metadata": {
        "id": "yxcQRqa7sJhu",
        "colab": {
          "base_uri": "https://localhost:8080/"
        },
        "outputId": "524236d2-e889-4669-f752-0acc96ffd760"
      },
      "execution_count": null,
      "outputs": [
        {
          "output_type": "execute_result",
          "data": {
            "text/plain": [
              "range(0, 10)"
            ]
          },
          "metadata": {},
          "execution_count": 2
        }
      ]
    },
    {
      "cell_type": "code",
      "source": [
        "sum(range(4))"
      ],
      "metadata": {
        "id": "6D3FmA5Rr-fT",
        "colab": {
          "base_uri": "https://localhost:8080/"
        },
        "outputId": "fff5f272-946f-40e4-b9fb-e5cb240913a5"
      },
      "execution_count": null,
      "outputs": [
        {
          "output_type": "execute_result",
          "data": {
            "text/plain": [
              "6"
            ]
          },
          "metadata": {},
          "execution_count": 1
        }
      ]
    },
    {
      "cell_type": "markdown",
      "source": [
        "# 4.4 루프의 break, continue and else"
      ],
      "metadata": {
        "id": "pBKF7PnYhtI-"
      }
    },
    {
      "cell_type": "code",
      "source": [
        "# 소수 찾기\n",
        "for n in range(2,10): # 2~9\n",
        "  for x in range(2, n): \n",
        "    if n % x ==0:\n",
        "      print(n, 'equals', x, '*', n//x)\n",
        "      break\n",
        "  else:\n",
        "      print(n, 'is a prime number')\n",
        "\n",
        "# 루프와 함께 사용될 때, else 절은 if 문보다는 try 문의 else 절과 비슷한 면이 많습니다: try 문의 else 절은 예외가 발생하지 않을 때 실행되고,\n",
        "# ★루프의 else 절은 break가 발생하지 않을 때 실행"
      ],
      "metadata": {
        "id": "NPk_CLggr-cD",
        "colab": {
          "base_uri": "https://localhost:8080/"
        },
        "outputId": "d6270961-022a-4dda-f651-6ac62948b6b7"
      },
      "execution_count": null,
      "outputs": [
        {
          "output_type": "stream",
          "name": "stdout",
          "text": [
            "2 is a prime number\n",
            "3 is a prime number\n",
            "4 equals 2 * 2\n",
            "5 is a prime number\n",
            "6 equals 2 * 3\n",
            "7 is a prime number\n",
            "8 equals 2 * 4\n",
            "9 equals 3 * 3\n"
          ]
        }
      ]
    },
    {
      "cell_type": "code",
      "source": [
        "# continue : 루프의 다음(next) 반복에서 계속하도록 만듭니다.\n",
        "for num in range(2, 10):\n",
        "  if num % 2 == 0:\n",
        "    print(\"Found an even number\", num)\n",
        "    continue\n",
        "  print(\"Found an odd number\", num)"
      ],
      "metadata": {
        "id": "7-nZ3rhor-YZ",
        "colab": {
          "base_uri": "https://localhost:8080/"
        },
        "outputId": "3a65de0b-33ce-4de9-e271-587400359d09"
      },
      "execution_count": null,
      "outputs": [
        {
          "output_type": "stream",
          "name": "stdout",
          "text": [
            "Found an even number 2\n",
            "Found an odd number 3\n",
            "Found an even number 4\n",
            "Found an odd number 5\n",
            "Found an even number 6\n",
            "Found an odd number 7\n",
            "Found an even number 8\n",
            "Found an odd number 9\n"
          ]
        }
      ]
    },
    {
      "cell_type": "markdown",
      "source": [
        "# 4.5 pass 문"
      ],
      "metadata": {
        "id": "2HXO6P-ah0B6"
      }
    },
    {
      "cell_type": "code",
      "source": [
        "# pass 문은 아무것도 하지 않음. 문법적으로 문장이 필요하지만, 프로그램이 특별히 할 일이 없을 때 사용\n",
        "while True:\n",
        "  pass"
      ],
      "metadata": {
        "colab": {
          "base_uri": "https://localhost:8080/",
          "height": 226
        },
        "id": "fr7epkj-yCZw",
        "outputId": "7fa4f5ed-562e-4972-ebff-90d7e7e89b2c"
      },
      "execution_count": null,
      "outputs": [
        {
          "output_type": "error",
          "ename": "KeyboardInterrupt",
          "evalue": "ignored",
          "traceback": [
            "\u001b[0;31m---------------------------------------------------------------------------\u001b[0m",
            "\u001b[0;31mKeyboardInterrupt\u001b[0m                         Traceback (most recent call last)",
            "\u001b[0;32m<ipython-input-10-b0961320c57a>\u001b[0m in \u001b[0;36m<module>\u001b[0;34m()\u001b[0m\n\u001b[1;32m      2\u001b[0m \u001b[0;31m# pass 문은 아무것도 하지 않음. 문법적으로 문장이 필요하지만, 프로그램이 특별히 할 일이 없을 때 사용\u001b[0m\u001b[0;34m\u001b[0m\u001b[0;34m\u001b[0m\u001b[0;34m\u001b[0m\u001b[0m\n\u001b[1;32m      3\u001b[0m \u001b[0;32mwhile\u001b[0m \u001b[0;32mTrue\u001b[0m\u001b[0;34m:\u001b[0m\u001b[0;34m\u001b[0m\u001b[0;34m\u001b[0m\u001b[0m\n\u001b[0;32m----> 4\u001b[0;31m   \u001b[0;32mpass\u001b[0m\u001b[0;34m\u001b[0m\u001b[0;34m\u001b[0m\u001b[0m\n\u001b[0m",
            "\u001b[0;31mKeyboardInterrupt\u001b[0m: "
          ]
        }
      ]
    },
    {
      "cell_type": "code",
      "source": [
        "# 최소한의 클래스를 만들때\n",
        "class MyEmptyClass:\n",
        "  pass"
      ],
      "metadata": {
        "id": "gsyNyleSr-U_"
      },
      "execution_count": null,
      "outputs": []
    },
    {
      "cell_type": "code",
      "source": [
        "def initlog(*args):\n",
        "  pass # Remember to implement this! 이 자리 채워야할때 비워두는용도"
      ],
      "metadata": {
        "id": "h8SKKNDvr-Rt"
      },
      "execution_count": null,
      "outputs": []
    },
    {
      "cell_type": "markdown",
      "source": [
        "# 4.6 match statements"
      ],
      "metadata": {
        "id": "inSiTcTmh4RW"
      }
    },
    {
      "cell_type": "code",
      "source": [
        "# python 3.10부터 사용가능"
      ],
      "metadata": {
        "id": "cUSdZQg5yr5l"
      },
      "execution_count": null,
      "outputs": []
    },
    {
      "cell_type": "code",
      "source": [
        "# def http_error(status):\n",
        "#     match status:\n",
        "#         case 400:\n",
        "#             return \"Bad request\"\n",
        "#         case 404:\n",
        "#             return \"Not found\"\n",
        "#         case 418:\n",
        "#             return \"I'm a teapot\"\n",
        "#         case 401 | 403 | 404:\n",
        "#             return \"Not allowed\"\n",
        "#         case _:\n",
        "#             return \"Something's wrong with the internet\"\n",
        "\n",
        "\n"
      ],
      "metadata": {
        "id": "_ej4oaCMyr3g"
      },
      "execution_count": null,
      "outputs": []
    },
    {
      "cell_type": "code",
      "source": [
        "# point is an (x, y) tuple\n",
        "# 튜플은 소괄호로 나타낸다. 요소의 값이 중복되어도 괜찮으며 리스트와 달리 변경이 불가능하다.\n",
        "point = (1,3)\n",
        "match point:\n",
        "    case (0, 0):\n",
        "        print(\"Origin\")\n",
        "    case (0, y):\n",
        "        print(f\"Y={y}\") # f-string, 문자열 안에 표현식, 변수를 사용할 수 있음\n",
        "    case (x, 0):\n",
        "        print(f\"X={x}\")\n",
        "    case (x, y):\n",
        "        print(f\"X={x}, Y={y}\")\n",
        "    case _:\n",
        "        raise ValueError(\"Not a point\")\n",
        "\n",
        "# 실행 결과:  = X=1, Y=3"
      ],
      "metadata": {
        "id": "WOaQUvqHyr1a"
      },
      "execution_count": null,
      "outputs": []
    },
    {
      "cell_type": "code",
      "source": [
        "import sys\n",
        "print(sys.version)"
      ],
      "metadata": {
        "colab": {
          "base_uri": "https://localhost:8080/"
        },
        "id": "eZ2tvcVNyrzD",
        "outputId": "ae4d3fee-b33a-4fbc-8fb8-ecf72ec96b8a"
      },
      "execution_count": null,
      "outputs": [
        {
          "output_type": "stream",
          "name": "stdout",
          "text": [
            "3.7.12 (default, Jan 15 2022, 18:48:18) \n",
            "[GCC 7.5.0]\n"
          ]
        }
      ]
    },
    {
      "cell_type": "code",
      "source": [
        "class Point:\n",
        "    x: int\n",
        "    y: int\n",
        "\n",
        "def where_is(point):\n",
        "    match point:\n",
        "        case Point(x=0, y=0):\n",
        "            print(\"Origin\")\n",
        "        case Point(x=0, y=y):\n",
        "            print(f\"Y={y}\")\n",
        "        case Point(x=x, y=0):\n",
        "            print(f\"X={x}\")\n",
        "        case Point():\n",
        "            print(\"Somewhere else\")\n",
        "        case _:\n",
        "            print(\"Not a point\")\n",
        "\n",
        "point = Point() # 인스턴스 생성\n",
        "point.x = 0\n",
        "point.y = 3\n",
        "# # 실행결과: Y=3\n",
        "point.x = 0\n",
        "point.y = 3\n",
        "# # 실행결과: Origin\n",
        "\n",
        "where_is(point)\n",
        "\n"
      ],
      "metadata": {
        "id": "0HQKZKw5ywWA"
      },
      "execution_count": null,
      "outputs": []
    },
    {
      "cell_type": "code",
      "source": [
        "match points:\n",
        "    case []:\n",
        "        print(\"No points\")\n",
        "    case [Point(0, 0)]:\n",
        "        print(\"The origin\")\n",
        "    case [Point(x, y)]:\n",
        "        print(f\"Single point {x}, {y}\")\n",
        "    case [Point(0, y1), Point(0, y2)]:\n",
        "        print(f\"Two on the Y axis at {y1}, {y2}\")\n",
        "    case _:\n",
        "        print(\"Something else\")"
      ],
      "metadata": {
        "id": "xtnDfFTIeJJe"
      },
      "execution_count": null,
      "outputs": []
    },
    {
      "cell_type": "code",
      "source": [
        "match point:\n",
        "    case Point(x, y) if x == y:\n",
        "        print(f\"Y=X at {x}\")\n",
        "    case Point(x, y):\n",
        "        print(f\"Not on the diagonal\")"
      ],
      "metadata": {
        "id": "7Bf4FNiKeJFI"
      },
      "execution_count": null,
      "outputs": []
    },
    {
      "cell_type": "code",
      "source": [
        "case (Point(x1, y1), Point(x2, y2) as p2)"
      ],
      "metadata": {
        "id": "5bcBG9F7eJCp"
      },
      "execution_count": null,
      "outputs": []
    },
    {
      "cell_type": "code",
      "source": [
        "from enum import Enum\n",
        "class Color(Enum):\n",
        "    RED = 'red'\n",
        "    GREEN = 'green'\n",
        "    BLUE = 'blue'\n",
        "\n",
        "color = Color(input(\"Enter your choice of 'red', 'blue' or 'green': \"))\n",
        "\n",
        "match color:\n",
        "    case Color.RED:\n",
        "        print(\"I see red!\")\n",
        "    case Color.GREEN:\n",
        "        print(\"Grass is green\")\n",
        "    case Color.BLUE:\n",
        "        print(\"I'm feeling the blues :(\")"
      ],
      "metadata": {
        "id": "1ej5_Fiffveh"
      },
      "execution_count": null,
      "outputs": []
    },
    {
      "cell_type": "markdown",
      "source": [
        "# 4.7 함수 정의하기"
      ],
      "metadata": {
        "id": "FzJvxMrSiRML"
      }
    },
    {
      "cell_type": "code",
      "source": [
        "# 피보나치 수열을 임의의 한도까지 출력하는 함수"
      ],
      "metadata": {
        "id": "uWKIeZQlywUQ"
      },
      "execution_count": null,
      "outputs": []
    },
    {
      "cell_type": "code",
      "source": [
        "def fib(n): # n까지의 피보나치 수열\n",
        "    \"\"\"Print a Fibonacci series up to n.\"\"\"\n",
        "    a, b = 0, 1\n",
        "    while a < n:\n",
        "      print(a, end=' ')\n",
        "      a, b = b, a+b\n",
        "    #print() ?? 얘는 뭐야\n",
        "\n",
        "fib(2000)"
      ],
      "metadata": {
        "colab": {
          "base_uri": "https://localhost:8080/"
        },
        "id": "x7Q67ETXywRz",
        "outputId": "372e02ca-9891-4849-973c-dfb35d9b722b"
      },
      "execution_count": null,
      "outputs": [
        {
          "output_type": "stream",
          "name": "stdout",
          "text": [
            "0 1 1 2 3 5 8 13 21 34 55 89 144 233 377 610 987 1597 "
          ]
        }
      ]
    },
    {
      "cell_type": "code",
      "source": [
        "fib"
      ],
      "metadata": {
        "colab": {
          "base_uri": "https://localhost:8080/"
        },
        "id": "_HzexUn0ywPW",
        "outputId": "a5dcea3d-50d8-4325-9cee-751f1cbebd2b"
      },
      "execution_count": null,
      "outputs": [
        {
          "output_type": "execute_result",
          "data": {
            "text/plain": [
              "<function __main__.fib>"
            ]
          },
          "metadata": {},
          "execution_count": 19
        }
      ]
    },
    {
      "cell_type": "code",
      "source": [
        "f = fib # 같은 함수 객체를 가리키며 액세스 가능함.\n",
        "f(100)"
      ],
      "metadata": {
        "colab": {
          "base_uri": "https://localhost:8080/"
        },
        "id": "BWPR2bYDywMi",
        "outputId": "2fc35823-a3ac-45c9-b7ac-10d2844b84f2"
      },
      "execution_count": null,
      "outputs": [
        {
          "output_type": "stream",
          "name": "stdout",
          "text": [
            "0 1 1 2 3 5 8 13 21 34 55 89 "
          ]
        }
      ]
    },
    {
      "cell_type": "code",
      "source": [
        "fib(0) # return문이 없는 함수도 값을 돌려주며 None이 유일한 값이라면 보통 출력하지않는다."
      ],
      "metadata": {
        "id": "GBqaZNXIhkQ2"
      },
      "execution_count": null,
      "outputs": []
    },
    {
      "cell_type": "code",
      "source": [
        "print(fib(0)) # 꼭 출력하고 싶다면 print()사용"
      ],
      "metadata": {
        "colab": {
          "base_uri": "https://localhost:8080/"
        },
        "id": "iEMDppLRhk1r",
        "outputId": "54923391-e543-414a-e079-5886e3536b71"
      },
      "execution_count": null,
      "outputs": [
        {
          "output_type": "stream",
          "name": "stdout",
          "text": [
            "None\n"
          ]
        }
      ]
    },
    {
      "cell_type": "code",
      "source": [
        "# 피보나치 수열 print 대신 return 하는 함수\n",
        "def fib2(n):\n",
        "  \"\"\"Return a list containing the Fibonacci series up to n.\"\"\"\n",
        "  result=[]\n",
        "  a, b = 0, 1\n",
        "  while a < n:\n",
        "    result.append(a)\n",
        "    a, b = b, a+b\n",
        "  return result\n",
        "\n",
        "  f100 = fib2(100)\n",
        "  f100"
      ],
      "metadata": {
        "id": "FOIoJctGhkw2"
      },
      "execution_count": null,
      "outputs": []
    },
    {
      "cell_type": "markdown",
      "source": [
        "# 4.8 함수 정의 더 보기"
      ],
      "metadata": {
        "id": "mqSr7813iUKh"
      }
    },
    {
      "cell_type": "code",
      "source": [
        "# 기본값을 미리 설정할 수 있다.\n",
        "def ask_ok(prompt, retries=4, reminder='Please try again!'): \n",
        "    while True:\n",
        "        ok = input(prompt) # input('값을 입력하세요: ') 라고하면 메세지 출력되고 값 입력 칸이 나옴\n",
        "        if ok in ('y', 'ye', 'yes'):\n",
        "            return True\n",
        "        if ok in ('n', 'no', 'nop', 'nope'):\n",
        "            return False\n",
        "        retries = retries - 1\n",
        "        if retries < 0:\n",
        "            raise ValueError('invalid user response')\n",
        "        print(reminder)\n",
        "\n",
        "#ask_ok('정말 끝내길 원하세요?')\n",
        "#ask_ok('파일을 덮어써도 좋습니까?', 2)\n",
        "ask_ok('파일을 덮어써도 좋습니까?', 2, '자, 예나 아니요로만 답하세요!')"
      ],
      "metadata": {
        "colab": {
          "base_uri": "https://localhost:8080/"
        },
        "id": "bjtQ24SKy0MX",
        "outputId": "e62fd399-4161-433d-f731-c06458a492ac"
      },
      "execution_count": null,
      "outputs": [
        {
          "name": "stdout",
          "output_type": "stream",
          "text": [
            "파일을 덮어써도 좋습니까?y\n"
          ]
        },
        {
          "output_type": "execute_result",
          "data": {
            "text/plain": [
              "True"
            ]
          },
          "metadata": {},
          "execution_count": 35
        }
      ]
    },
    {
      "cell_type": "code",
      "source": [
        "# 기본값은 함수 정의 시점에 정의되고 있는 스코프에서 구해짐\n",
        "i = 5\n",
        "\n",
        "def f(arg=i):\n",
        "    print(arg)\n",
        "\n",
        "i = 6\n",
        "f()\n",
        "print(i)"
      ],
      "metadata": {
        "colab": {
          "base_uri": "https://localhost:8080/"
        },
        "id": "cDpdhqYGy0GK",
        "outputId": "7c2201f4-db1b-474e-bed6-0eb81936d50d"
      },
      "execution_count": null,
      "outputs": [
        {
          "output_type": "stream",
          "name": "stdout",
          "text": [
            "5\n",
            "6\n"
          ]
        }
      ]
    },
    {
      "cell_type": "code",
      "source": [
        "# 기본값은 오직 한 번만 값이 구해짐\n",
        "# 기본값이 리스트나 딕셔너리나 대부분 클래스의 인스턴스와 같은 가변 객체일 때\n",
        "# 다음 함수는 계속되는 호출로 전달된 인자들을 누적함\n",
        "def f(a, L=[]):\n",
        "    L.append(a)\n",
        "    return L\n",
        "\n",
        "print(f(1))\n",
        "print(f(2))\n",
        "print(f(3))"
      ],
      "metadata": {
        "colab": {
          "base_uri": "https://localhost:8080/"
        },
        "id": "L_qgdpw3mklN",
        "outputId": "a0dad227-77c9-4efe-e723-b109ab57b4f5"
      },
      "execution_count": null,
      "outputs": [
        {
          "output_type": "stream",
          "name": "stdout",
          "text": [
            "[1]\n",
            "[1, 2]\n",
            "[1, 2, 3]\n"
          ]
        }
      ]
    },
    {
      "cell_type": "code",
      "source": [
        "# 연속된 호출 간에 기본값이 공유되지 않기를 원한다면\n",
        "def f(a, L=None):\n",
        "    if L is None:\n",
        "        L = []\n",
        "    L.append(a)\n",
        "    return L\n",
        "\n",
        "# 각각의 리스트에 나중에 액세스하려면 리스트 만들어서 넣어놓기\n",
        "# list1=f(1)\n",
        "# list1.append(2)\n",
        "# print(list1)\n",
        "\n",
        "print(f(1))\n",
        "print(f(2))\n",
        "print(f(3))"
      ],
      "metadata": {
        "colab": {
          "base_uri": "https://localhost:8080/"
        },
        "id": "x7bb4NUlmki1",
        "outputId": "c8c143b7-b7bb-41cc-8ada-f8c823e23d4d"
      },
      "execution_count": null,
      "outputs": [
        {
          "output_type": "stream",
          "name": "stdout",
          "text": [
            "[1, 2]\n",
            "[2]\n",
            "[3]\n"
          ]
        }
      ]
    },
    {
      "cell_type": "markdown",
      "source": [
        "## 4.8.2 키워드 인자"
      ],
      "metadata": {
        "id": "7h6Qr8DbiXVK"
      }
    },
    {
      "cell_type": "code",
      "source": [
        "# 함수는 kwarg=value 형식의 키워드 인자 를 사용해서 호출가능\n",
        "# 필수인자 하나인경우 무조건 맨앞에 와야하는듯\n",
        "def parrot(voltage, state='a stiff', action='voom', type='Norwegian Blue'):\n",
        "    print(\"-- This parrot wouldn't\", action, end=' ')\n",
        "    print(\"if you put\", voltage, \"volts through it.\")\n",
        "    print(\"-- Lovely plumage, the\", type)\n",
        "    print(\"-- It's\", state, \"!\")"
      ],
      "metadata": {
        "id": "3PIunO0Cnzjc"
      },
      "execution_count": null,
      "outputs": []
    },
    {
      "cell_type": "code",
      "source": [
        "# 다음중 아무방법으로 호출가능\n",
        "parrot(1000)                                          # 1 positional argument\n",
        "parrot(voltage=1000)                                  # 1 keyword argument\n",
        "parrot(voltage=1000000, action='VOOOOOM')             # 2 keyword arguments\n",
        "parrot(action='VOOOOOM', voltage=1000000)             # 2 keyword arguments\n",
        "parrot('a million', 'bereft of life', 'jump')         # 3 positional arguments\n",
        "parrot('a thousand', state='pushing up the daisies')  # 1 positional, 1 keyword"
      ],
      "metadata": {
        "id": "Yr1xbrn9nzhi",
        "colab": {
          "base_uri": "https://localhost:8080/"
        },
        "outputId": "d255453d-fd10-4338-eb25-bdfb2ea337cc"
      },
      "execution_count": null,
      "outputs": [
        {
          "output_type": "stream",
          "name": "stdout",
          "text": [
            "-- This parrot wouldn't voom if you put 1000 volts through it.\n",
            "-- Lovely plumage, the Norwegian Blue\n",
            "-- It's a stiff !\n",
            "-- This parrot wouldn't voom if you put 1000 volts through it.\n",
            "-- Lovely plumage, the Norwegian Blue\n",
            "-- It's a stiff !\n",
            "-- This parrot wouldn't VOOOOOM if you put 1000000 volts through it.\n",
            "-- Lovely plumage, the Norwegian Blue\n",
            "-- It's a stiff !\n",
            "-- This parrot wouldn't VOOOOOM if you put 1000000 volts through it.\n",
            "-- Lovely plumage, the Norwegian Blue\n",
            "-- It's a stiff !\n",
            "-- This parrot wouldn't jump if you put a million volts through it.\n",
            "-- Lovely plumage, the Norwegian Blue\n",
            "-- It's bereft of life !\n",
            "-- This parrot wouldn't voom if you put a thousand volts through it.\n",
            "-- Lovely plumage, the Norwegian Blue\n",
            "-- It's pushing up the daisies !\n"
          ]
        }
      ]
    },
    {
      "cell_type": "code",
      "source": [
        "parrot()                     # required argument missing\n",
        "parrot(voltage=5.0, 'dead')  # non-keyword argument after a keyword argument\n",
        "parrot(110, voltage=220)     # duplicate value for the same argument\n",
        "parrot(actor='John Cleese')  # unknown keyword argument"
      ],
      "metadata": {
        "id": "lGWO7Gpynzf5",
        "colab": {
          "base_uri": "https://localhost:8080/"
        },
        "outputId": "2063e119-ecc4-4d22-adbf-740a886145ba"
      },
      "execution_count": null,
      "outputs": [
        {
          "output_type": "stream",
          "name": "stdout",
          "text": [
            "-- This parrot wouldn't jump if you put a million volts through it.\n",
            "-- Lovely plumage, the Norwegian Blue\n",
            "-- It's bereft of life !\n"
          ]
        }
      ]
    },
    {
      "cell_type": "code",
      "source": [
        "def function(a):\n",
        "  pass\n",
        "  \n",
        "# function(0, a=0) # TypeError: function() got multiple values for argument 'a'"
      ],
      "metadata": {
        "id": "LvyvN2b1nzdN",
        "colab": {
          "base_uri": "https://localhost:8080/",
          "height": 209
        },
        "outputId": "53e5f3ae-ae26-485d-c863-d78478353680"
      },
      "execution_count": 1,
      "outputs": [
        {
          "output_type": "error",
          "ename": "TypeError",
          "evalue": "ignored",
          "traceback": [
            "\u001b[0;31m---------------------------------------------------------------------------\u001b[0m",
            "\u001b[0;31mTypeError\u001b[0m                                 Traceback (most recent call last)",
            "\u001b[0;32m<ipython-input-1-87ea72001ce6>\u001b[0m in \u001b[0;36m<module>\u001b[0;34m()\u001b[0m\n\u001b[1;32m      2\u001b[0m   \u001b[0;32mpass\u001b[0m\u001b[0;34m\u001b[0m\u001b[0;34m\u001b[0m\u001b[0m\n\u001b[1;32m      3\u001b[0m \u001b[0;34m\u001b[0m\u001b[0m\n\u001b[0;32m----> 4\u001b[0;31m \u001b[0mfunction\u001b[0m\u001b[0;34m(\u001b[0m\u001b[0;36m0\u001b[0m\u001b[0;34m,\u001b[0m \u001b[0ma\u001b[0m\u001b[0;34m=\u001b[0m\u001b[0;36m0\u001b[0m\u001b[0;34m)\u001b[0m\u001b[0;34m\u001b[0m\u001b[0;34m\u001b[0m\u001b[0m\n\u001b[0m",
            "\u001b[0;31mTypeError\u001b[0m: function() got multiple values for argument 'a'"
          ]
        }
      ]
    },
    {
      "cell_type": "code",
      "source": [
        "# 딕셔너리\n",
        "# *변수명: 튜플?, **변수명: 딕셔너리\n",
        "def cheeseshop(kind, *arguments, **keywords):\n",
        "    print(\"-- Do you have any\", kind, \"?\")\n",
        "    print(\"-- I'm sorry, we're all out of\", kind)\n",
        "    for arg in arguments:\n",
        "        print(arg) \n",
        "    print(\"-\" * 40)\n",
        "    for kw in keywords:\n",
        "        print(kw, \":\", keywords[kw])"
      ],
      "metadata": {
        "id": "MswB616WmkgP"
      },
      "execution_count": null,
      "outputs": []
    },
    {
      "cell_type": "code",
      "source": [
        "cheeseshop(\"Limburger\", \"It's very runny, sir.\",\n",
        "           \"It's really very, VERY runny, sir.\",\n",
        "           shopkeeper=\"Michael Palin\",\n",
        "           client=\"John Cleese\",\n",
        "           sketch=\"Cheese Shop Sketch\")"
      ],
      "metadata": {
        "colab": {
          "base_uri": "https://localhost:8080/"
        },
        "id": "_3V5tkLuSRW9",
        "outputId": "4dbdef86-b991-4174-909f-09d643013938"
      },
      "execution_count": null,
      "outputs": [
        {
          "output_type": "stream",
          "name": "stdout",
          "text": [
            "-- Do you have any Limburger ?\n",
            "-- I'm sorry, we're all out of Limburger\n",
            "It's very runny, sir.\n",
            "It's really very, VERY runny, sir.\n",
            "----------------------------------------\n",
            "shopkeeper : Michael Palin\n",
            "client : John Cleese\n",
            "sketch : Cheese Shop Sketch\n"
          ]
        }
      ]
    },
    {
      "cell_type": "markdown",
      "source": [
        "## 4.8.3 특수 매개 변수"
      ],
      "metadata": {
        "id": "ILsyFpUxik0k"
      }
    },
    {
      "cell_type": "code",
      "source": [
        "\n",
        "# 매개 변수의 이름을 사용자가 사용할 수 없도록 하려면 위치 전용을 사용\n",
        "# 사용자가 전달되는 인자의 위치에 의존하지 못하도록 하려면 키워드 전용을 사용\n",
        "def f(pos1, pos2, /, pos_or_kwd, *, kwd1, kwd2):\n"
      ],
      "metadata": {
        "id": "1fQURWSsmkbH"
      },
      "execution_count": null,
      "outputs": []
    },
    {
      "cell_type": "code",
      "source": [
        "# 위치 전용 매개 변수는 / (슬래시) 앞에 놓임.\n",
        "# /는 위치 전용 매개 변수를 나머지 매개 변수들로부터 논리적으로 분리하는 데 사용\n",
        "# 함수 정의에 /가 없으면, 위치 전용 매개 변수는 없음\n",
        "def standard_arg(arg):\n",
        "  print(arg)\n",
        "\n",
        "def pos_only_arg(arg, /):\n",
        "  print(arg)\n",
        "\n",
        "def kwd_only_arg(*, arg):\n",
        "  print(arg)\n",
        "\n",
        "def combined_example(pos_only, /, standard, *, kwd_only):\n",
        "  print(pos_only, standard, kwd_only)"
      ],
      "metadata": {
        "id": "iKfSjhJumkd0"
      },
      "execution_count": null,
      "outputs": []
    },
    {
      "cell_type": "code",
      "source": [
        "standard_arg(2) # 호출 규칙에 아무런 제한을 두지 않으며 인자는 위치나 키워드로 전달\n",
        "standard_arg(arg=2)\n",
        "pos_only_arg(arg=1) # 함수 정의에 /가 있으므로 위치 매개 변수만 사용하도록 제한\n",
        "kwd_only_arg(arg=3) # 함수 정의에서 *로 표시된 키워드 인자만 허용\n",
        "\n",
        "combined_example(1, 2, kwd_only=3)\n",
        "combined_example(1, standard=2, kwd_only=3)\n",
        "# combined_example(pos_only=1, standard=2, kwd_only=3) # error\n",
        "# combined_example(1, 2, 3) # error"
      ],
      "metadata": {
        "id": "Dh0r4_Zkn_5i"
      },
      "execution_count": null,
      "outputs": []
    },
    {
      "cell_type": "code",
      "source": [
        "def foo(name, **kwds):\n",
        "    return 'name' in kwds\n",
        "# foo(1, **{'name': 2}) # error, 'name' 키워드는 항상 첫 번째 매개 변수에 결합하므로 True를 반환할 수 있는 호출은 불가능"
      ],
      "metadata": {
        "id": "-Ba7kNftn_2c"
      },
      "execution_count": null,
      "outputs": []
    },
    {
      "cell_type": "code",
      "source": [
        "def foo(name, /, **kwds):\n",
        "    return 'name' in kwds\n",
        "\n",
        "foo(1, **{'name': 2})"
      ],
      "metadata": {
        "id": "fVes6w76n_zx"
      },
      "execution_count": null,
      "outputs": []
    },
    {
      "cell_type": "markdown",
      "source": [
        "## 4.8.4 임의의 인자 목록"
      ],
      "metadata": {
        "id": "yOoVhYBGioIy"
      }
    },
    {
      "cell_type": "code",
      "source": [
        "# 함수가 임의의 개수 인자로 호출될 수 있도록 지정하는 것\n",
        "def write_multiple_items(file, separator, *args):\n",
        "    file.write(separator.join(args))"
      ],
      "metadata": {
        "id": "w19wtNmJn_w8"
      },
      "execution_count": null,
      "outputs": []
    },
    {
      "cell_type": "code",
      "source": [
        "def concat(*args, sep=\"/\"):\n",
        "  return sep.join(args)\n",
        "\n",
        "concat(\"earth\",\"mars\",\"venus\")"
      ],
      "metadata": {
        "id": "PVWFF9HVoDul",
        "colab": {
          "base_uri": "https://localhost:8080/",
          "height": 35
        },
        "outputId": "e5e3867a-6d5c-4614-8bce-5b57fcd206ef"
      },
      "execution_count": null,
      "outputs": [
        {
          "output_type": "execute_result",
          "data": {
            "application/vnd.google.colaboratory.intrinsic+json": {
              "type": "string"
            },
            "text/plain": [
              "'earth/mars/venus'"
            ]
          },
          "metadata": {},
          "execution_count": 30
        }
      ]
    },
    {
      "cell_type": "code",
      "source": [
        "concat(\"earth\", \"mars\", \"venus\", sep=\".\")"
      ],
      "metadata": {
        "colab": {
          "base_uri": "https://localhost:8080/",
          "height": 35
        },
        "id": "zgxmr8o4ZN5o",
        "outputId": "aea28210-9f2f-4507-adb0-9d944430d255"
      },
      "execution_count": null,
      "outputs": [
        {
          "output_type": "execute_result",
          "data": {
            "application/vnd.google.colaboratory.intrinsic+json": {
              "type": "string"
            },
            "text/plain": [
              "'earth.mars.venus'"
            ]
          },
          "metadata": {},
          "execution_count": 29
        }
      ]
    },
    {
      "cell_type": "markdown",
      "source": [
        "## 4.8.5 인자 목록 언 패킹"
      ],
      "metadata": {
        "id": "Y7ug91Annj6K"
      }
    },
    {
      "cell_type": "code",
      "source": [
        "# 인자들이 이미 리스트나 튜플에 있지만, 분리된 위치 인자들을 요구하는 함수 호출을 위해 언 패킹 해야 하는 경우\n",
        "# 리스트와 튜플로부터 인자를 언 패킹하기 위해 *-연산자를 사용해서 함수를 호출\n",
        "list(range(3, 6))\n",
        "args = [3, 6]\n",
        "list(range(*args))"
      ],
      "metadata": {
        "id": "yFD7GUFCoDr-",
        "colab": {
          "base_uri": "https://localhost:8080/"
        },
        "outputId": "2dd30284-758f-4833-a6b0-2b253acb0fa8"
      },
      "execution_count": 3,
      "outputs": [
        {
          "output_type": "execute_result",
          "data": {
            "text/plain": [
              "[3, 4, 5]"
            ]
          },
          "metadata": {},
          "execution_count": 3
        }
      ]
    },
    {
      "cell_type": "code",
      "source": [
        "# 딕셔너리도 **-연산자를 써서 키워드 인자를 전달\n",
        "def parrot(voltage, state='a stiff', action='voom'):\n",
        "  print(\"-- This parrot wouldn't\", action, end=' ')\n",
        "  print(\"if you put\", voltage, \"volts through it.\", end=' ')\n",
        "  print(\"E's\", state, \"!\")\n",
        "d = {\"voltage\": \"four million\", \"state\": \"bleedin' demised\", \"action\": \"VOOM\"}\n",
        "parrot(**d)"
      ],
      "metadata": {
        "id": "BIHybu8LoGAU",
        "colab": {
          "base_uri": "https://localhost:8080/"
        },
        "outputId": "02b987ba-2037-42b4-cbad-fc389d0f3dfa"
      },
      "execution_count": 4,
      "outputs": [
        {
          "output_type": "stream",
          "name": "stdout",
          "text": [
            "-- This parrot wouldn't VOOM if you put four million volts through it. E's bleedin' demised !\n"
          ]
        }
      ]
    },
    {
      "cell_type": "markdown",
      "source": [
        "## 4.8.6 람다 표현식"
      ],
      "metadata": {
        "id": "HhYQJEKRnl1s"
      }
    },
    {
      "cell_type": "code",
      "source": [
        "# 이름 없는 함수, 함수 객체가 있어야 하는 곳이면 어디나 람다 함수가 사용될 수 있음\n",
        "\n",
        "# 함수를 돌려주기 위해 람다 표현식을 사용\n",
        "def make_incrementor(n):\n",
        "  return lambda x: x + n\n",
        "\n",
        "f = make_incrementor(42)\n",
        "f # <function __main__.make_incrementor.<locals>.<lambda>>\n"
      ],
      "metadata": {
        "id": "0tmvoqnwoF9C",
        "colab": {
          "base_uri": "https://localhost:8080/"
        },
        "outputId": "1145d63d-a558-4612-f0f5-53a262cd6230"
      },
      "execution_count": 10,
      "outputs": [
        {
          "output_type": "execute_result",
          "data": {
            "text/plain": [
              "<function __main__.make_incrementor.<locals>.<lambda>>"
            ]
          },
          "metadata": {},
          "execution_count": 10
        }
      ]
    },
    {
      "cell_type": "code",
      "source": [
        "f(0) # 42\n",
        "f(1) # 43"
      ],
      "metadata": {
        "id": "Q9iS2PTVoJ2s",
        "colab": {
          "base_uri": "https://localhost:8080/"
        },
        "outputId": "8516c99d-639b-4bab-ecb5-716e4215364f"
      },
      "execution_count": 11,
      "outputs": [
        {
          "output_type": "execute_result",
          "data": {
            "text/plain": [
              "43"
            ]
          },
          "metadata": {},
          "execution_count": 11
        }
      ]
    },
    {
      "cell_type": "code",
      "source": [
        "# 작은 함수를 인자로 전달\n",
        "pairs = [(1, 'one'), (2, 'two'), (3, 'three'), (4, 'four')]\n",
        "pairs.sort(key=lambda pair: pair[1]) # 딕셔너리 값을 key로 정렬\n",
        "pairs"
      ],
      "metadata": {
        "colab": {
          "base_uri": "https://localhost:8080/"
        },
        "id": "Iuq1Nfocu441",
        "outputId": "91fc93b0-83d9-41ce-b7be-44201d6e5d63"
      },
      "execution_count": 15,
      "outputs": [
        {
          "output_type": "execute_result",
          "data": {
            "text/plain": [
              "[(4, 'four'), (1, 'one'), (3, 'three'), (2, 'two')]"
            ]
          },
          "metadata": {},
          "execution_count": 15
        }
      ]
    },
    {
      "cell_type": "markdown",
      "source": [
        "## 4.8.7 도큐멘테이션 문자열"
      ],
      "metadata": {
        "id": "E9Gn79ufnnHu"
      }
    },
    {
      "cell_type": "code",
      "source": [
        "# 첫 줄은 항상 객체의 목적을 짧고, 간결하게 요약\n",
        "# 대문자로 시작하고 마침표로 끝나야함.\n",
        "# 두 번째 줄은 비어있어서, 시각적으로 요약과 나머지 설명을 분리\n",
        "# 객체의 호출 규약, 부작용 등을 설명"
      ],
      "metadata": {
        "id": "NY4xWocVu4jJ"
      },
      "execution_count": null,
      "outputs": []
    },
    {
      "cell_type": "code",
      "source": [
        "def my_function():\n",
        "  \"\"\"Do nothing, but document it.\n",
        "\n",
        "  No, really, it doesn't do anything.\n",
        "  \"\"\"\n",
        "  pass\n",
        "print(my_function.__doc__)"
      ],
      "metadata": {
        "id": "d3IQuDbeoJ0G",
        "colab": {
          "base_uri": "https://localhost:8080/"
        },
        "outputId": "6db51e32-2971-414c-972d-6441c9cc64f4"
      },
      "execution_count": 16,
      "outputs": [
        {
          "output_type": "stream",
          "name": "stdout",
          "text": [
            "Do nothing, but document it.\n",
            "\n",
            "  No, really, it doesn't do anything.\n",
            "  \n"
          ]
        }
      ]
    },
    {
      "cell_type": "markdown",
      "source": [
        "## 4.8.8 함수 어노테이션"
      ],
      "metadata": {
        "id": "3Th9uXiLnoLx"
      }
    },
    {
      "cell_type": "code",
      "source": [
        "# 사용자 정의 함수가 사용하는 형들에 대한 완전히 선택적인 메타데이터 정보\n",
        "# 함수의 __annotations__ 어트리뷰트에 딕셔너리로 저장되고 함수의 다른 부분에는 아무런 영향을 미치지 않습니다."
      ],
      "metadata": {
        "id": "BDet34sKoMGP"
      },
      "execution_count": null,
      "outputs": []
    },
    {
      "cell_type": "code",
      "source": [
        "def f(ham: str, eggs: str = 'eggs') -> str:\n",
        "  print(\"Annotations:\", f.__annotations__)\n",
        "  print(\"Arguments:\", ham, eggs)\n",
        "  return ham + ' and ' + eggs\n",
        "\n",
        "f('spam')"
      ],
      "metadata": {
        "id": "kslSRxYIoMDp",
        "colab": {
          "base_uri": "https://localhost:8080/",
          "height": 72
        },
        "outputId": "dd568b7a-4396-4cc0-c2b1-d271aafa2699"
      },
      "execution_count": 17,
      "outputs": [
        {
          "output_type": "stream",
          "name": "stdout",
          "text": [
            "Annotations: {'ham': <class 'str'>, 'eggs': <class 'str'>, 'return': <class 'str'>}\n",
            "Arguments: spam eggs\n"
          ]
        },
        {
          "output_type": "execute_result",
          "data": {
            "application/vnd.google.colaboratory.intrinsic+json": {
              "type": "string"
            },
            "text/plain": [
              "'spam and eggs'"
            ]
          },
          "metadata": {},
          "execution_count": 17
        }
      ]
    },
    {
      "cell_type": "markdown",
      "source": [
        "# 막간극: 코딩 스타일"
      ],
      "metadata": {
        "id": "CuQYWt9Dwdp3"
      }
    },
    {
      "cell_type": "code",
      "source": [
        "# 들려 쓰기에 4-스페이스를 사용하고, 탭을 사용하지 마세요.\n",
        "\n",
        "# 4개의 스페이스는 작은 들여쓰기 (더 많은 중첩 도를 허락합니다) 와 큰 들여쓰기 (읽기 쉽습니다) 사이의 좋은 절충입니다. 탭은 혼란을 일으키고, 없애는 것이 최선입니다.\n",
        "\n",
        "# 79자를 넘지 않도록 줄 넘김 하세요.\n",
        "\n",
        "# 이것은 작은 화면을 가진 사용자를 돕고 큰 화면에서는 여러 코드 파일들을 나란히 볼 수 있게 합니다.\n",
        "\n",
        "# 함수, 클래스, 함수 내의 큰 코드 블록 사이에 빈 줄을 넣어 분리하세요.\n",
        "\n",
        "# 가능하다면, 주석은 별도의 줄로 넣으세요.\n",
        "\n",
        "# 독스트링을 사용하세요.\n",
        "\n",
        "# 연산자들 주변과 콤마 뒤에 스페이스를 넣고, 괄호 바로 안쪽에는 스페이스를 넣지 마세요: a = f(1, 2) + g(3, 4).\n",
        "\n",
        "# 클래스와 함수들에 일관성 있는 이름을 붙이세요; 관례는 클래스의 경우 UpperCamelCase, 함수와 메서드의 경우 lowercase_with_underscores입니다. 첫 번째 메서드 인자의 이름으로는 항상 self를 사용하세요 (클래스와 메서드에 대한 자세한 내용은 클래스와의 첫 만남 을 보세요).\n",
        "\n",
        "# 여러분의 코드를 국제적인 환경에서 사용하려고 한다면 특별한 인코딩을 사용하지 마세요. 어떤 경우에도 파이썬의 기본, UTF-8, 또는 단순 ASCII조차, 이 최선입니다.\n",
        "\n",
        "# 마찬가지로, 다른 언어를 사용하는 사람이 코드를 읽거나 유지할 약간의 가능성만 있더라도, 식별자에 ASCII 이외의 문자를 사용하지 마세요."
      ],
      "metadata": {
        "id": "rn-61KWJoOtH"
      },
      "execution_count": null,
      "outputs": []
    }
  ]
}