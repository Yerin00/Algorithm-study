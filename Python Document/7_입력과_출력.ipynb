{
  "nbformat": 4,
  "nbformat_minor": 0,
  "metadata": {
    "colab": {
      "name": "입력과 출력.ipynb",
      "provenance": [],
      "collapsed_sections": []
    },
    "kernelspec": {
      "name": "python3",
      "display_name": "Python 3"
    },
    "language_info": {
      "name": "python"
    }
  },
  "cells": [
    {
      "cell_type": "markdown",
      "source": [
        "# 7.입력과 출력"
      ],
      "metadata": {
        "id": "e1hXgOmGpnMJ"
      }
    },
    {
      "cell_type": "markdown",
      "source": [
        "# 7.1 장식적인 출력 포매팅"
      ],
      "metadata": {
        "id": "rwKaCAR2poED"
      }
    },
    {
      "cell_type": "markdown",
      "source": [
        "포맷 문자열 리터럴:f 또는 F로 문자열 시작\n",
        "\n",
        "이 문자열 안에서, { 및 } 문자 사이에, 변수 또는 리터럴 값을 참조할 수 있는 파이썬 표현식을 작성할 수 있습니다.\n",
        "\n",
        "\n"
      ],
      "metadata": {
        "id": "zdZlhENU9NDO"
      }
    },
    {
      "cell_type": "code",
      "execution_count": 1,
      "metadata": {
        "colab": {
          "base_uri": "https://localhost:8080/",
          "height": 35
        },
        "id": "tjmL-8xbpQcM",
        "outputId": "4cfa7571-a787-4785-d08b-1f8fe764609d"
      },
      "outputs": [
        {
          "output_type": "execute_result",
          "data": {
            "application/vnd.google.colaboratory.intrinsic+json": {
              "type": "string"
            },
            "text/plain": [
              "'Results of the 2016 Referendum'"
            ]
          },
          "metadata": {},
          "execution_count": 1
        }
      ],
      "source": [
        "year = 2016\n",
        "event = 'Referendum'\n",
        "f'Results of the {year} {event}'"
      ]
    },
    {
      "cell_type": "code",
      "source": [
        "'Results of the {year} {event}'"
      ],
      "metadata": {
        "colab": {
          "base_uri": "https://localhost:8080/",
          "height": 35
        },
        "id": "lGWeVR9A9k_E",
        "outputId": "2a5f7a6c-93f6-479d-a42f-4f7b056c29a3"
      },
      "execution_count": 2,
      "outputs": [
        {
          "output_type": "execute_result",
          "data": {
            "application/vnd.google.colaboratory.intrinsic+json": {
              "type": "string"
            },
            "text/plain": [
              "'Results of the {year} {event}'"
            ]
          },
          "metadata": {},
          "execution_count": 2
        }
      ]
    },
    {
      "cell_type": "code",
      "source": [
        "yes_votes = 42_572_654\n",
        "no_votes = 43_132_495\n",
        "percentage = yes_votes / (yes_votes + no_votes)\n",
        "'{:-9} YES votes {:2.2%}'.format(yes_votes, percentage)"
      ],
      "metadata": {
        "colab": {
          "base_uri": "https://localhost:8080/",
          "height": 35
        },
        "id": "I7nECOJi9nPT",
        "outputId": "24620e03-8bae-4ee7-9966-b24c01449b8e"
      },
      "execution_count": 3,
      "outputs": [
        {
          "output_type": "execute_result",
          "data": {
            "application/vnd.google.colaboratory.intrinsic+json": {
              "type": "string"
            },
            "text/plain": [
              "' 42572654 YES votes 49.67%'"
            ]
          },
          "metadata": {},
          "execution_count": 3
        }
      ]
    },
    {
      "cell_type": "code",
      "source": [
        "s = 'Hello, world.'\n",
        "str(s)"
      ],
      "metadata": {
        "colab": {
          "base_uri": "https://localhost:8080/",
          "height": 35
        },
        "id": "08u6IkDp-Qk7",
        "outputId": "7a0bc10e-7e01-4b07-97ae-b3ae1292f2cf"
      },
      "execution_count": 7,
      "outputs": [
        {
          "output_type": "execute_result",
          "data": {
            "application/vnd.google.colaboratory.intrinsic+json": {
              "type": "string"
            },
            "text/plain": [
              "'Hello, world.'"
            ]
          },
          "metadata": {},
          "execution_count": 7
        }
      ]
    },
    {
      "cell_type": "code",
      "source": [
        "repr(s)"
      ],
      "metadata": {
        "colab": {
          "base_uri": "https://localhost:8080/",
          "height": 35
        },
        "id": "hkaLSdjo-bnd",
        "outputId": "b61dcaf3-806b-456d-9cf7-1d88868f2b9b"
      },
      "execution_count": 8,
      "outputs": [
        {
          "output_type": "execute_result",
          "data": {
            "application/vnd.google.colaboratory.intrinsic+json": {
              "type": "string"
            },
            "text/plain": [
              "\"'Hello, world.'\""
            ]
          },
          "metadata": {},
          "execution_count": 8
        }
      ]
    },
    {
      "cell_type": "code",
      "source": [
        "str(1/7)"
      ],
      "metadata": {
        "colab": {
          "base_uri": "https://localhost:8080/",
          "height": 35
        },
        "id": "QdGna66q-el4",
        "outputId": "0fb0cb28-eb81-4c1f-854c-857166be5743"
      },
      "execution_count": 9,
      "outputs": [
        {
          "output_type": "execute_result",
          "data": {
            "application/vnd.google.colaboratory.intrinsic+json": {
              "type": "string"
            },
            "text/plain": [
              "'0.14285714285714285'"
            ]
          },
          "metadata": {},
          "execution_count": 9
        }
      ]
    },
    {
      "cell_type": "code",
      "source": [
        "x = 10 * 3.25\n",
        "y = 200 * 200\n",
        "s = 'The value of x is ' + repr(x) + ', and y is ' + repr(y) + '...'\n",
        "print(s)"
      ],
      "metadata": {
        "colab": {
          "base_uri": "https://localhost:8080/"
        },
        "id": "b6Otyxad-ego",
        "outputId": "10ce3202-f4a3-466f-de93-96a010b48623"
      },
      "execution_count": 10,
      "outputs": [
        {
          "output_type": "stream",
          "name": "stdout",
          "text": [
            "The value of x is 32.5, and y is 40000...\n"
          ]
        }
      ]
    },
    {
      "cell_type": "code",
      "source": [
        " # The repr() of a string adds string quotes and backslashes( \\\")\n",
        " hello = 'hello, world\\n'\n",
        " print(hello)\n",
        "\n",
        " hellos = repr(hello)\n",
        " print(hellos)\n",
        "\n",
        " hellos2 = str(hello)\n",
        " print(hellos2)\n",
        " print('.')"
      ],
      "metadata": {
        "colab": {
          "base_uri": "https://localhost:8080/"
        },
        "id": "wqO7rnDS-eXk",
        "outputId": "32f9b9a7-cc68-46ed-bd37-6ac8b522058d"
      },
      "execution_count": 15,
      "outputs": [
        {
          "output_type": "stream",
          "name": "stdout",
          "text": [
            "hello, world\n",
            "\n",
            "'hello, world\\n'\n",
            "hello, world\n",
            "\n",
            ".\n"
          ]
        }
      ]
    },
    {
      "cell_type": "code",
      "source": [
        "# The argument to repr() may be any Python object\n",
        "repr((x, y, ('spam', 'eggs')))"
      ],
      "metadata": {
        "colab": {
          "base_uri": "https://localhost:8080/",
          "height": 35
        },
        "id": "-4rjzuGM-eT8",
        "outputId": "6a094aa9-d2d2-4490-f5f5-aeb8c3b06949"
      },
      "execution_count": 16,
      "outputs": [
        {
          "output_type": "execute_result",
          "data": {
            "application/vnd.google.colaboratory.intrinsic+json": {
              "type": "string"
            },
            "text/plain": [
              "\"(32.5, 40000, ('spam', 'eggs'))\""
            ]
          },
          "metadata": {},
          "execution_count": 16
        }
      ]
    },
    {
      "cell_type": "markdown",
      "source": [
        "## 7.1.1 포맷 문자열 리터럴"
      ],
      "metadata": {
        "id": "C3Efvk4jpo5W"
      }
    },
    {
      "cell_type": "markdown",
      "source": [
        "포맷 문자열 리터럴(간단히 f-문자열이라고도 합니다)은 문자열에 f 또는 F 접두어를 붙이고 표현식을 {expression}로 작성하여 문자열에 파이썬 표현식의 값을 삽입할 수 있게 합니다."
      ],
      "metadata": {
        "id": "M_USsplD_31j"
      }
    },
    {
      "cell_type": "code",
      "source": [
        "import math\n",
        "print(f'The value of [i os approximately {math.pi: .3f}')"
      ],
      "metadata": {
        "colab": {
          "base_uri": "https://localhost:8080/"
        },
        "id": "Ej80EYY-_17x",
        "outputId": "cbdaeffc-a244-45c7-c127-8af075a9cf8a"
      },
      "execution_count": 20,
      "outputs": [
        {
          "output_type": "stream",
          "name": "stdout",
          "text": [
            "The value of [i os approximately  3.142\n"
          ]
        }
      ]
    },
    {
      "cell_type": "code",
      "source": [
        "# ':' 뒤에 정수를 전달하면 해당 필드의 최소 문자 폭이 됩니다. 열을 줄 맞춤할 때 편리합니다.\n",
        "table = {'Sjoerd': 4127, 'Jack': 4098, 'Dcab': 7678}\n",
        "for name, phone in table.items():\n",
        "  print(f'{name:10} ==> {phone:10d}')"
      ],
      "metadata": {
        "colab": {
          "base_uri": "https://localhost:8080/"
        },
        "id": "WPQJibRG_1na",
        "outputId": "087237a3-311e-4b3a-8939-7121ced6b542"
      },
      "execution_count": 23,
      "outputs": [
        {
          "output_type": "stream",
          "name": "stdout",
          "text": [
            "Sjoerd     ==>       4127\n",
            "Jack       ==>       4098\n",
            "Dcab       ==>       7678\n"
          ]
        }
      ]
    },
    {
      "cell_type": "markdown",
      "source": [
        "다른 수정자를 사용하면 포맷되기 전에 값을 변환할 수 있습니다. '!a'는 ascii()를, '!s'는 str()을, '!r'는 repr()을 적용합니다."
      ],
      "metadata": {
        "id": "OA8lxur3AtPS"
      }
    },
    {
      "cell_type": "code",
      "source": [
        "animals = 'eels'\n",
        "print(f'My hovercraft is full of {animals}.')\n",
        "print(f'My hobercraft is full of {animals!r}.')"
      ],
      "metadata": {
        "colab": {
          "base_uri": "https://localhost:8080/"
        },
        "id": "4lUmyqkVAua6",
        "outputId": "58ddb533-00d1-4d12-a9f3-6ea62c53810b"
      },
      "execution_count": 24,
      "outputs": [
        {
          "output_type": "stream",
          "name": "stdout",
          "text": [
            "My hovercraft is full of eels.\n",
            "My hobercraft is full of 'eels'.\n"
          ]
        }
      ]
    },
    {
      "cell_type": "markdown",
      "source": [
        "## 7.1.2 문자열 format() 메소드"
      ],
      "metadata": {
        "id": "zP6ugri6po2y"
      }
    },
    {
      "cell_type": "code",
      "source": [
        "print('We are the {} who say \"{}!\"'.format('knights', 'Ni'))"
      ],
      "metadata": {
        "colab": {
          "base_uri": "https://localhost:8080/"
        },
        "id": "92eZRAqcBCLX",
        "outputId": "04c192de-b3cf-4a0e-e227-eea74ea2cd89"
      },
      "execution_count": 25,
      "outputs": [
        {
          "output_type": "stream",
          "name": "stdout",
          "text": [
            "We are the knights who say \"Ni!\"\n"
          ]
        }
      ]
    },
    {
      "cell_type": "code",
      "source": [
        "# 중괄호와 그 안에 있는 문자들(포맷 필드) 은  메서드로 전달된 객체들의 위치를 가리키는데 사용\n",
        "print('{0} and {1}'.format('spam', 'eggs'))\n",
        "print('{1} and {0}'.format('spam', 'eggs'))"
      ],
      "metadata": {
        "colab": {
          "base_uri": "https://localhost:8080/"
        },
        "id": "OqN7OUGFBDJt",
        "outputId": "a55b3386-8cd5-4c2e-99e5-f9e3ed02b025"
      },
      "execution_count": 26,
      "outputs": [
        {
          "output_type": "stream",
          "name": "stdout",
          "text": [
            "spam and eggs\n",
            "eggs and spam\n"
          ]
        }
      ]
    },
    {
      "cell_type": "code",
      "source": [
        "# 키워드 인자가 사용되면, 그 값들은 인자의 이름을 사용해서 지정\n",
        "print('This {food} is {adjective}.'.format(food='spam', adjective='absolutely horrible'))"
      ],
      "metadata": {
        "colab": {
          "base_uri": "https://localhost:8080/"
        },
        "id": "2BRBCuIgBDBJ",
        "outputId": "ad65d02e-e04f-410a-930b-82eb797d75a5"
      },
      "execution_count": 27,
      "outputs": [
        {
          "output_type": "stream",
          "name": "stdout",
          "text": [
            "This spam is absolutely horrible.\n"
          ]
        }
      ]
    },
    {
      "cell_type": "code",
      "source": [
        "# 위치와 키워드 인자를 자유롭게 조합\n",
        "print('The story of {0}, {1}, and {other}.'.format('Bill', 'Manfred', other='Georg'))"
      ],
      "metadata": {
        "colab": {
          "base_uri": "https://localhost:8080/"
        },
        "id": "JaSX2UtyBC-y",
        "outputId": "1c7ca5bd-6b3c-4c47-83ea-41cb9cc0482f"
      },
      "execution_count": 28,
      "outputs": [
        {
          "output_type": "stream",
          "name": "stdout",
          "text": [
            "The story of Bill, Manfred, and Georg.\n"
          ]
        }
      ]
    },
    {
      "cell_type": "markdown",
      "source": [
        "나누고 싶지 않은 정말 긴 포맷 문자열이 있을 때, 포맷할 변수들을 위치 대신에 이름으로 지정할 수 있다면 좋을 것입니다. "
      ],
      "metadata": {
        "id": "Lfze8sROCF8f"
      }
    },
    {
      "cell_type": "code",
      "source": [
        "# 간단히 딕셔너리를 넘기고 키를 액세스하는데 대괄호 '[]' 를 사용\n",
        "# d: 자료형\n",
        "table = {'Sjoerd': 4127, 'Jack': 4098, 'Dcab': 8637678}\n",
        "print(table['Jack'])\n",
        "print('Jack: {0[Jack]:d}; Sjoerd: {0[Sjoerd]:d}; Dcab: {0[Dcab]:d}'.format(table))"
      ],
      "metadata": {
        "colab": {
          "base_uri": "https://localhost:8080/"
        },
        "id": "RT-T1kYaB9tY",
        "outputId": "d60a3610-2c4e-45f6-e95a-009ae0f7e963"
      },
      "execution_count": 47,
      "outputs": [
        {
          "output_type": "stream",
          "name": "stdout",
          "text": [
            "4098\n",
            "Jack: 4098; Sjoerd: 4127; Dcab: 8637678\n"
          ]
        }
      ]
    },
    {
      "cell_type": "code",
      "source": [
        "# 〈**〉 표기법을 사용해서 table을 키워드 인자로 전달해도 같은 결과\n",
        "print('Jack: {Jack:d}; Sjoerd: {Sjoerd:d}; Dcab: {Dcab:d}'.format(**table))"
      ],
      "metadata": {
        "colab": {
          "base_uri": "https://localhost:8080/"
        },
        "id": "ONR-JJQQB9wE",
        "outputId": "b50b958a-e3f4-4476-b90e-e35c0e3c0e47"
      },
      "execution_count": 36,
      "outputs": [
        {
          "output_type": "stream",
          "name": "stdout",
          "text": [
            "Jack: 4098; Sjoerd: 4127; Dcab: 8637678\n"
          ]
        }
      ]
    },
    {
      "cell_type": "markdown",
      "source": [
        "[참고] **딕셔너리 언패킹** \n",
        "\n",
        "딕셔너리를 한 번 언패킹하면 키를 사용한다는 뜻이 됩니다. 따라서 **처럼 딕셔너리를 두 번 언패킹하여 값을 사용해야함."
      ],
      "metadata": {
        "id": "-nxGNeupFF_4"
      }
    },
    {
      "cell_type": "code",
      "source": [
        "for x in range(1, 11):\n",
        "  print('{0:2d} {1:3d} {2:4d}'.format(x, x*x, x*x*x))"
      ],
      "metadata": {
        "colab": {
          "base_uri": "https://localhost:8080/"
        },
        "id": "03jBB6p1FFxB",
        "outputId": "35971785-ff1b-4c3c-af97-6e4b36f7854c"
      },
      "execution_count": 48,
      "outputs": [
        {
          "output_type": "stream",
          "name": "stdout",
          "text": [
            " 1   1    1\n",
            " 2   4    8\n",
            " 3   9   27\n",
            " 4  16   64\n",
            " 5  25  125\n",
            " 6  36  216\n",
            " 7  49  343\n",
            " 8  64  512\n",
            " 9  81  729\n",
            "10 100 1000\n"
          ]
        }
      ]
    },
    {
      "cell_type": "markdown",
      "source": [
        "## 7.1.3 수동 문자열 포매팅"
      ],
      "metadata": {
        "id": "BdX8f8Z7povn"
      }
    },
    {
      "cell_type": "code",
      "source": [
        "for x in range(1, 11):\n",
        "  print(repr(x).rjust(2), repr(x*x).rjust(3), end=' ')\n",
        "  # print(repr(x*x*x).rjust(4))\n",
        "  print(repr(x*x*x*x).rjust(3)[:3]) # 슬라이스 연산"
      ],
      "metadata": {
        "colab": {
          "base_uri": "https://localhost:8080/"
        },
        "id": "aB9rb6IhFh5w",
        "outputId": "7f1027d7-79c1-4727-c39b-99c1468b272f"
      },
      "execution_count": 53,
      "outputs": [
        {
          "output_type": "stream",
          "name": "stdout",
          "text": [
            " 1   1   1\n",
            " 2   4  16\n",
            " 3   9  81\n",
            " 4  16 256\n",
            " 5  25 625\n",
            " 6  36 129\n",
            " 7  49 240\n",
            " 8  64 409\n",
            " 9  81 656\n",
            "10 100 100\n"
          ]
        }
      ]
    },
    {
      "cell_type": "markdown",
      "source": [
        "문자열 객체의 str.rjust() 메서드는 왼쪽에 스페이스를 채워서 주어진 폭으로 문자열을 우측 줄 맞춤합니다. r(=right)\n",
        "\n",
        " [참고] 비슷한 메소드 str.ljust(),  str.center() \n",
        "\n",
        " 잘라내기를 원한다면, 항상 슬라이스 연산을 추가할 수 있습니다, x.ljust(n)[:n]"
      ],
      "metadata": {
        "id": "GnhM3x_uF82O"
      }
    },
    {
      "cell_type": "code",
      "source": [
        "# str.zfill(). 숫자 문자열의 왼쪽에 0을 채움\n",
        "'12'.zfill(5)\n"
      ],
      "metadata": {
        "colab": {
          "base_uri": "https://localhost:8080/",
          "height": 35
        },
        "id": "OIqN1XjUFi0D",
        "outputId": "7ac43cb0-9228-41dd-8d5e-ef679dd33267"
      },
      "execution_count": 54,
      "outputs": [
        {
          "output_type": "execute_result",
          "data": {
            "application/vnd.google.colaboratory.intrinsic+json": {
              "type": "string"
            },
            "text/plain": [
              "'00012'"
            ]
          },
          "metadata": {},
          "execution_count": 54
        }
      ]
    },
    {
      "cell_type": "code",
      "source": [
        "'-3.14'.zfill(7) # +, -, .도 카운트"
      ],
      "metadata": {
        "colab": {
          "base_uri": "https://localhost:8080/",
          "height": 35
        },
        "id": "rfyq2OQDH1G5",
        "outputId": "49632963-5379-43a8-d51b-e8da1746a282"
      },
      "execution_count": 55,
      "outputs": [
        {
          "output_type": "execute_result",
          "data": {
            "application/vnd.google.colaboratory.intrinsic+json": {
              "type": "string"
            },
            "text/plain": [
              "'-003.14'"
            ]
          },
          "metadata": {},
          "execution_count": 55
        }
      ]
    },
    {
      "cell_type": "markdown",
      "source": [
        "## 7.1.4 예전의 문자열 포매팅"
      ],
      "metadata": {
        "id": "RS3ApZnKpoWy"
      }
    },
    {
      "cell_type": "code",
      "source": [
        "# 문자열 보간(interpolation): % 연산자(모듈로)\n",
        "import math\n",
        "print('The value of pi is approximately %5.3f.' %math.pi)"
      ],
      "metadata": {
        "id": "ceUpHBcMLn1f"
      },
      "execution_count": null,
      "outputs": []
    },
    {
      "cell_type": "markdown",
      "source": [
        "# 7.2 파일을 읽고 쓰기"
      ],
      "metadata": {
        "id": "n7XLJMipp2ar"
      }
    },
    {
      "cell_type": "code",
      "source": [
        "f = open('workfile', 'w')"
      ],
      "metadata": {
        "id": "yRQ6AC33MAEf"
      },
      "execution_count": null,
      "outputs": []
    },
    {
      "cell_type": "markdown",
      "source": [
        "### mode\n",
        "\n",
        "- 파일을 읽기만 하면 'r'\n",
        "\n",
        "- 쓰기만 하면 'w' (같은 이름의 이미 존재하는 파일은 삭제됩니다)\n",
        "\n",
        "- 'a' 는 파일을 덧붙이기 위해 엽니다.\n",
        "(파일에 기록되는 모든 데이터는 자동으로 끝에 붙습니다.)\n",
        "- 'r+' 는 파일을 읽고 쓰기 위해 엽니다.\n",
        "\n",
        "- mode 인자는 선택적인데, 생략하면 'r' 이 가정\n",
        "\n",
        "- mode 에 덧붙여진 'b' 는 파일을 바이너리 모드 (binary mode) 로 엽니다"
      ],
      "metadata": {
        "id": "7gz891FhMVaJ"
      }
    },
    {
      "cell_type": "markdown",
      "source": [
        "도중 예외가 발생하더라도 스위트가 종료될 때 파일이 올바르게 닫힌다.\n",
        "동등한 try-finally 블록을 쓰는 것에 비교해 훨씬 짧음."
      ],
      "metadata": {
        "id": "VDjtz6bEMz1q"
      }
    },
    {
      "cell_type": "code",
      "source": [
        "with open('workfile') as f:\n",
        "  read_data = f.read()\n",
        "\n",
        "f.closed # 파일이 닫혔는지 확인(반환값: True or False)"
      ],
      "metadata": {
        "colab": {
          "base_uri": "https://localhost:8080/",
          "height": 226
        },
        "id": "QzCzsuEYL_9l",
        "outputId": "e26be2cc-bfcf-4a17-ae93-b732f7a8f7a8"
      },
      "execution_count": 56,
      "outputs": [
        {
          "output_type": "error",
          "ename": "FileNotFoundError",
          "evalue": "ignored",
          "traceback": [
            "\u001b[0;31m---------------------------------------------------------------------------\u001b[0m",
            "\u001b[0;31mFileNotFoundError\u001b[0m                         Traceback (most recent call last)",
            "\u001b[0;32m<ipython-input-56-dee6b6c2d9e6>\u001b[0m in \u001b[0;36m<module>\u001b[0;34m()\u001b[0m\n\u001b[0;32m----> 1\u001b[0;31m \u001b[0;32mwith\u001b[0m \u001b[0mopen\u001b[0m\u001b[0;34m(\u001b[0m\u001b[0;34m'workfile'\u001b[0m\u001b[0;34m)\u001b[0m \u001b[0;32mas\u001b[0m \u001b[0mf\u001b[0m\u001b[0;34m:\u001b[0m\u001b[0;34m\u001b[0m\u001b[0;34m\u001b[0m\u001b[0m\n\u001b[0m\u001b[1;32m      2\u001b[0m   \u001b[0mread_data\u001b[0m \u001b[0;34m=\u001b[0m \u001b[0mf\u001b[0m\u001b[0;34m.\u001b[0m\u001b[0mread\u001b[0m\u001b[0;34m(\u001b[0m\u001b[0;34m)\u001b[0m\u001b[0;34m\u001b[0m\u001b[0;34m\u001b[0m\u001b[0m\n\u001b[1;32m      3\u001b[0m \u001b[0;34m\u001b[0m\u001b[0m\n\u001b[1;32m      4\u001b[0m \u001b[0mf\u001b[0m\u001b[0;34m.\u001b[0m\u001b[0mclosed\u001b[0m\u001b[0;34m\u001b[0m\u001b[0;34m\u001b[0m\u001b[0m\n",
            "\u001b[0;31mFileNotFoundError\u001b[0m: [Errno 2] No such file or directory: 'workfile'"
          ]
        }
      ]
    },
    {
      "cell_type": "code",
      "source": [
        "f.close()\n",
        "f.read() # 닫은 후 읽으려는 시도는 모두 error"
      ],
      "metadata": {
        "id": "kL5gqofiM3UN"
      },
      "execution_count": null,
      "outputs": []
    },
    {
      "cell_type": "markdown",
      "source": [
        "## 7.2.1 파일 객체의 메소드"
      ],
      "metadata": {
        "id": "nntdQZATp3f0"
      }
    },
    {
      "cell_type": "markdown",
      "source": [
        "`f.read(size)`\n",
        "\n",
        "size 가 생략되거나 음수면 파일의 내용 \n",
        "전체를 읽어서 돌려줍니다."
      ],
      "metadata": {
        "id": "YlaWz6m2NfTi"
      }
    },
    {
      "cell_type": "code",
      "source": [
        "f.read()\n",
        "#  파일의 끝에 도달하면, f.read() 는 빈 문자열 ('') 을 돌려줍니다.\n",
        "f.read()"
      ],
      "metadata": {
        "id": "8Qkfs51zNlrw"
      },
      "execution_count": null,
      "outputs": []
    },
    {
      "cell_type": "code",
      "source": [
        "# f.readline() 가 빈 문자열을 돌려주면, 파일의 끝에 도달한 것이지만, 빈 줄은 '\\n', 즉 하나의 개행문자만을 포함하는 문자열로 표현\n",
        "f.readline()"
      ],
      "metadata": {
        "id": "X6EaEdvVQO58"
      },
      "execution_count": null,
      "outputs": []
    },
    {
      "cell_type": "code",
      "source": [
        "# 파일에서 줄들을 읽으려면, 파일 객체에 대해 루핑할 수 있습니다. 이것은 메모리 효율적이고, 빠르며 간단한 코드\n",
        "for line in f:\n",
        "  print(line, end='')"
      ],
      "metadata": {
        "id": "Lor5UUwOQYkq"
      },
      "execution_count": null,
      "outputs": []
    },
    {
      "cell_type": "markdown",
      "source": [
        "파일의 모든 줄을 리스트로 읽어 들이려면 list(f) 나 f.readlines() 를 쓸 수 있습니다."
      ],
      "metadata": {
        "id": "hT-4RSX5RTEQ"
      }
    },
    {
      "cell_type": "code",
      "source": [
        "# f.write(string) 은 string 의 내용을 파일에 쓰고, 출력된 문자들의 개수를 돌려줍니다.\n",
        "f.write('This is a test\\n')"
      ],
      "metadata": {
        "id": "CJNoSLMfRHYB"
      },
      "execution_count": null,
      "outputs": []
    },
    {
      "cell_type": "code",
      "source": [
        "value = ('the answer', 42)\n",
        "s = str(value)\n",
        "f.write(s)"
      ],
      "metadata": {
        "id": "Lv9EUV1CRxqx"
      },
      "execution_count": null,
      "outputs": []
    },
    {
      "cell_type": "markdown",
      "source": [
        "f.tell() 은 파일의 현재 위치를 가리키는 정수를 돌려주는데, 바이너리 모드의 경우 파일의 처음부터의 바이트 수로 표현되고 텍스트 모드의 경우는 불투명한 숫자입니다."
      ],
      "metadata": {
        "id": "mDH6ZfXKRbc8"
      }
    },
    {
      "cell_type": "markdown",
      "source": [
        "파일 객체의 위치를 바꾸려면, f.seek(offset, whence) 를 사용.\n",
        "\n",
        "whence = 기준점 (0: 파일처음/1: 현재 파일 위치/2: 파일의 끝)"
      ],
      "metadata": {
        "id": "x8Ri6pdURchm"
      }
    },
    {
      "cell_type": "code",
      "source": [
        "f = open('workfile', 'rb+')\n",
        "f.write(b'0123456789abcdef')\n",
        "f.seek(5) # Go to the 6th byte in the file\n",
        "f.read(1) # 실행결과: b'5'\n",
        "f.seek(-3, 2)  # Go to the 3rd byte before the end\n",
        "f.read(1) # 실행결과: b'd'"
      ],
      "metadata": {
        "id": "u4fMWQ7MSZlZ"
      },
      "execution_count": null,
      "outputs": []
    },
    {
      "cell_type": "markdown",
      "source": [
        "텍스트 파일에서는  올바른 offset 값은 f.tell() 이 돌려준 값과 0뿐입니다. 그 밖의 다른 offset 값은 정의되지 않은 결과를 낳습니다."
      ],
      "metadata": {
        "id": "4gBdTfxiTUsI"
      }
    },
    {
      "cell_type": "markdown",
      "source": [
        "## 7.2.2 json 으로 구조적인 데이터를 저장하기"
      ],
      "metadata": {
        "id": "SlHaoFBsp3QW"
      }
    },
    {
      "cell_type": "markdown",
      "source": [
        " json 이라는 표준 모듈은 파이썬 데이터 계층을 받아서 문자열 표현으로 바꿔줍니다.\n",
        "\n",
        " 이 절차를 직렬화 (serializing) 라고 부릅니다. 문자열 표현으로부터 데이터를 재구성하는 것은 역 직렬화 (deserializing) 라고 부릅니다.\n",
        "\n",
        " "
      ],
      "metadata": {
        "id": "tGNtytA2TiZn"
      }
    },
    {
      "cell_type": "code",
      "source": [
        "import json\n",
        "x = [1, 'simple', 'list']\n",
        "json.dumps(x)"
      ],
      "metadata": {
        "colab": {
          "base_uri": "https://localhost:8080/",
          "height": 35
        },
        "id": "wKOIxxDDTNrr",
        "outputId": "45bf851c-73f7-46e8-cab4-65976739e964"
      },
      "execution_count": 57,
      "outputs": [
        {
          "output_type": "execute_result",
          "data": {
            "application/vnd.google.colaboratory.intrinsic+json": {
              "type": "string"
            },
            "text/plain": [
              "'[1, \"simple\", \"list\"]'"
            ]
          },
          "metadata": {},
          "execution_count": 57
        }
      ]
    },
    {
      "cell_type": "code",
      "source": [
        "json.dump(x, f) # f 가 쓰기를 위해 열린 텍스트 파일 이면"
      ],
      "metadata": {
        "id": "kRcDA-I4WPtL"
      },
      "execution_count": null,
      "outputs": []
    },
    {
      "cell_type": "code",
      "source": [
        "x = json.load(f) # f 가 읽기를 위해 열린 텍스트 파일 객체일 때"
      ],
      "metadata": {
        "id": "n_VZcl7iV7g-"
      },
      "execution_count": null,
      "outputs": []
    }
  ]
}