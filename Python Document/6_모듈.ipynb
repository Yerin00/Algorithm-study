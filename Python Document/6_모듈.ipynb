{
  "nbformat": 4,
  "nbformat_minor": 0,
  "metadata": {
    "colab": {
      "name": "모듈.ipynb",
      "provenance": [],
      "collapsed_sections": []
    },
    "kernelspec": {
      "name": "python3",
      "display_name": "Python 3"
    },
    "language_info": {
      "name": "python"
    }
  },
  "cells": [
    {
      "cell_type": "markdown",
      "source": [
        "# 6.모듈"
      ],
      "metadata": {
        "id": "rkmyi_jBxp5O"
      }
    },
    {
      "cell_type": "code",
      "execution_count": null,
      "metadata": {
        "id": "H4FP04Yexm84"
      },
      "outputs": [],
      "source": [
        "# 정의들을 파일에 넣고 스크립트나 인터프리터의 대화형 모드에서 사용할 수 있는 방법, 그런 파일= 모듈\n",
        "# 파일의 이름은 모듈 이름에 확장자 .py 를 붙임\n",
        "# 모듈 내에서, 모듈의 이름은 전역 변수 __name__ 으로 제공됨.\n"
      ]
    },
    {
      "cell_type": "code",
      "source": [
        "# Fibonacci numbers module\n",
        "def fib(n):\n",
        "  a, b = 0, 1\n",
        "  while a < n:\n",
        "    print(a, end=' ')\n",
        "    a, b = b, a+b\n",
        "  print()\n",
        "\n",
        "def fib2(n):\n",
        "  result = []\n",
        "  a, b = 0, 1\n",
        "  while a < n:\n",
        "    result.append(a)\n",
        "    a, b = b, a+b\n",
        "  return result"
      ],
      "metadata": {
        "id": "JTh7mlC2cSGm"
      },
      "execution_count": null,
      "outputs": []
    },
    {
      "cell_type": "code",
      "source": [
        "import fibo"
      ],
      "metadata": {
        "id": "qcgopdgKcrsO"
      },
      "execution_count": null,
      "outputs": []
    },
    {
      "cell_type": "code",
      "source": [
        "fibo.fib(1000)\n",
        "fibo.fib2(100)\n",
        "fibo.__name__ # 실행결과: 'fibo', 즉 import 했을때 __name__ = fibo(파일이름) "
      ],
      "metadata": {
        "id": "u_zcFmcxc-OR"
      },
      "execution_count": null,
      "outputs": []
    },
    {
      "cell_type": "markdown",
      "source": [
        "# 6.1 모듈 더 보기"
      ],
      "metadata": {
        "id": "FWfGp8FcxqRu"
      }
    },
    {
      "cell_type": "code",
      "source": [
        "from fibo import fib, fib2\n",
        "fib(500)"
      ],
      "metadata": {
        "id": "2hsYFiT3yRkA"
      },
      "execution_count": null,
      "outputs": []
    },
    {
      "cell_type": "code",
      "source": [
        "from fibo import * # 모듈이 정의하는 모든 이름을 임포트, 잘 안 씀"
      ],
      "metadata": {
        "id": "ZWcoEBKPyRhU"
      },
      "execution_count": null,
      "outputs": []
    },
    {
      "cell_type": "markdown",
      "source": [
        "이것은 밑줄 (_) 로 시작하는 것들을 제외한 모든 이름을 임포트 합니다. 대부분 파이썬 프로그래머들은 이 기능을 사용하지 않는데, 인터프리터로 알려지지 않은 이름들의 집합을 도입하게 되어, 여러분이 이미 정의한 것들을 가리게 될 수 있기 때문입니다."
      ],
      "metadata": {
        "id": "OPKtwgyne0ey"
      }
    },
    {
      "cell_type": "code",
      "source": [
        "# as 다음의 이름을 임포트한 모듈에 직접 연결\n",
        "import fibo as fib\n",
        "fib.fib(500)"
      ],
      "metadata": {
        "id": "Z0JryxYue3yL"
      },
      "execution_count": null,
      "outputs": []
    },
    {
      "cell_type": "code",
      "source": [
        "from fibo import fib as fibonacci\n",
        "fibonacci(500)"
      ],
      "metadata": {
        "id": "FDZ6H9Ree6Ri"
      },
      "execution_count": null,
      "outputs": []
    },
    {
      "cell_type": "markdown",
      "source": [
        "## 6.1.1 모듈을 스크립트로 실행하기"
      ],
      "metadata": {
        "id": "HY1mpSW7xqHT"
      }
    },
    {
      "cell_type": "markdown",
      "source": [
        "파이썬 모듈을 이렇게 실행하면"
      ],
      "metadata": {
        "id": "KHw5lmOtgoo-"
      }
    },
    {
      "cell_type": "code",
      "source": [
        "python fibo.py <arguments>"
      ],
      "metadata": {
        "id": "nMLF1Q_6fQVk"
      },
      "execution_count": null,
      "outputs": []
    },
    {
      "cell_type": "markdown",
      "source": [
        "모듈에 있는 코드는, 그것을 임포트할 때처럼 실행됩니다. 하지만 __name__ 은 \"__main__\" 로 설정됨."
      ],
      "metadata": {
        "id": "i2vZ-jjdhJDM"
      }
    },
    {
      "cell_type": "code",
      "source": [
        "# 스크립트롤 실행시키면 __name__ = __main__\n",
        "if __name__ == \"__main__\":\n",
        "    import sys\n",
        "    fib(int(sys.argv[1]))"
      ],
      "metadata": {
        "id": "ogCJNK5sfRJX"
      },
      "execution_count": null,
      "outputs": []
    },
    {
      "cell_type": "markdown",
      "source": [
        "모듈뿐만 아니라 스크립트로도 사용할 수 있도록 만들 수 있음을 의미함.\n",
        "오직 모듈이 《메인》 파일로 실행될 때만 명령행을 파싱하는 코드가 실행되기 때문."
      ],
      "metadata": {
        "id": "ZQ_lcFFig1OL"
      }
    },
    {
      "cell_type": "code",
      "source": [
        "python fibo.py 50"
      ],
      "metadata": {
        "id": "rUASANQIfRGb"
      },
      "execution_count": null,
      "outputs": []
    },
    {
      "cell_type": "code",
      "source": [
        "import fibo # 모듈이 임포트될 때, 코드는 실행되지 않습니다."
      ],
      "metadata": {
        "id": "akUVuOW6g76J"
      },
      "execution_count": null,
      "outputs": []
    },
    {
      "cell_type": "markdown",
      "source": [
        "# 6.2 표준 모듈들"
      ],
      "metadata": {
        "id": "F-tFf75Ex9hn"
      }
    },
    {
      "cell_type": "code",
      "source": [
        "# sys. 모든 파이썬 인터프리터에 내장\n",
        "# 기본과 보조 프롬프트로 사용되는 문자열을 정의\n",
        "import sys\n",
        "sys.ps1"
      ],
      "metadata": {
        "id": "S1ueu10nir1T"
      },
      "execution_count": null,
      "outputs": []
    },
    {
      "cell_type": "code",
      "source": [
        "sys.ps2"
      ],
      "metadata": {
        "id": "iFKwo3qTitTw"
      },
      "execution_count": null,
      "outputs": []
    },
    {
      "cell_type": "code",
      "source": [
        "sys.ps = 'C> '"
      ],
      "metadata": {
        "id": "2nuYyJxOiXi9"
      },
      "execution_count": null,
      "outputs": []
    },
    {
      "cell_type": "code",
      "source": [
        "# 변수 sys.path 는 인터프리터의 모듈 검색 경로를 결정하는 문자열들의 리스트\n",
        "sys.path.append('/ufs/guido/lib/python')"
      ],
      "metadata": {
        "id": "JU2Zp-MMizK3"
      },
      "execution_count": null,
      "outputs": []
    },
    {
      "cell_type": "markdown",
      "source": [
        "# 6.3 dir() 함수"
      ],
      "metadata": {
        "id": "5TLBfy78x_Yr"
      }
    },
    {
      "cell_type": "markdown",
      "source": [
        "내장 함수 dir() 은 모듈이 정의하는 이름들을 찾는 데 사용됩니다. 문자열들의 정렬된 리스트를 돌려줍니다."
      ],
      "metadata": {
        "id": "SWMpLgmpi6bL"
      }
    },
    {
      "cell_type": "code",
      "source": [
        "import fibo, sys\n",
        "dir(fibo)\n",
        "dir(sys)"
      ],
      "metadata": {
        "id": "QSV6YdZpi7G3"
      },
      "execution_count": null,
      "outputs": []
    },
    {
      "cell_type": "code",
      "source": [
        "# 인자가 없으면, dir() 는 현재 정의한 이름들을 나열\n",
        "a = [1, 2, 3, 4, 5]\n",
        "import fibo\n",
        "fib = fibo.fib\n",
        "dir()"
      ],
      "metadata": {
        "id": "B4p4VJL3jDw0"
      },
      "execution_count": null,
      "outputs": []
    },
    {
      "cell_type": "code",
      "source": [
        "import builtins\n",
        "dir(builtins)"
      ],
      "metadata": {
        "id": "dC4KW_yNkDGS"
      },
      "execution_count": null,
      "outputs": []
    },
    {
      "cell_type": "markdown",
      "source": [
        "# 6.4 패키지"
      ],
      "metadata": {
        "id": "VsAsC59uyB1I"
      }
    },
    {
      "cell_type": "markdown",
      "source": [
        "패키지는 《점으로 구분된 모듈 이름》 를 써서 파이썬의 모듈 이름 공간을 구조화하는 방법.\n",
        "예를 들어, 모듈 이름 A.B 는 A 라는 이름의 패키지에 있는 B 라는 이름의 서브 모듈을 가리킵니다. "
      ],
      "metadata": {
        "id": "_12DKV3bkMSc"
      }
    },
    {
      "cell_type": "markdown",
      "source": [
        "sound/                          Top-level package\n",
        "      __init__.py               Initialize the sound package\n",
        "      formats/                  Subpackage for file format conversions\n",
        "              __init__.py\n",
        "              wavread.py\n",
        "              wavwrite.py\n",
        "              aiffread.py\n",
        "              aiffwrite.py\n",
        "              auread.py\n",
        "              auwrite.py\n",
        "              ...\n",
        "      effects/                  Subpackage for sound effects\n",
        "              __init__.py\n",
        "              echo.py\n",
        "              surround.py\n",
        "              reverse.py\n",
        "              ...\n",
        "      filters/                  Subpackage for filters\n",
        "              __init__.py\n",
        "              equalizer.py\n",
        "              vocoder.py\n",
        "              karaoke.py\n",
        "              ..."
      ],
      "metadata": {
        "id": "qgW0Q3S_kfq_"
      }
    },
    {
      "cell_type": "code",
      "source": [
        "# 패키지 사용자는 패키지로부터 개별 모듈을 임포트할 수 있음."
      ],
      "metadata": {
        "id": "2otXLQ9Qkhxp"
      },
      "execution_count": null,
      "outputs": []
    },
    {
      "cell_type": "code",
      "source": [
        "# 서브 모듈 sound.effects.echo 를 로드합니다. 전체 이름으로 참조되어야 합니다.\n",
        "import sound.effects.echo\n",
        "sound.effects.echo.echofilter(input, output, delay=0.7, atten=4)"
      ],
      "metadata": {
        "id": "qb1fkqGtkrQk"
      },
      "execution_count": null,
      "outputs": []
    },
    {
      "cell_type": "code",
      "source": [
        "# 서브 모듈 echo 를 로드하고, 패키지 접두어 없이 사용할 수 있게함.\n",
        "from sound.effects import echo\n",
        "echo.echofilter(input, output, delay=0.7, atten=4)"
      ],
      "metadata": {
        "id": "ZYNJafNUktAd"
      },
      "execution_count": null,
      "outputs": []
    },
    {
      "cell_type": "code",
      "source": [
        "# 서브 모듈 echo 를 로드하지만, 함수 echofilter() 를 직접 사용할 수 있게함.\n",
        "from sound.effects.echo import echofilter\n",
        "echofilter(input, output, delay=0.7, atten=4)"
      ],
      "metadata": {
        "id": "Ik5_28JXlGFW"
      },
      "execution_count": null,
      "outputs": []
    },
    {
      "cell_type": "markdown",
      "source": [
        "from package import item 를 사용할 때, item은 패키지의 서브 모듈 (또는 서브 패키지)일 수도 있고 함수, 클래스, 변수 등 패키지에 정의된 다른 이름들일 수도 있음에 유의하세요.\n",
        "\n",
        "이에 반하여, import item.subitem.subsubitem 와 같은 문법을 사용할 때, 마지막 것을 제외한 각 항목은 반드시 패키지여야 합니다; 마지막 항목은 모듈이나 패키지가 될 수 있지만, 앞의 항목에서 정의된 클래스, 함수, 변수 등이 될 수는 없습니다."
      ],
      "metadata": {
        "id": "UDuBDQiZlZE1"
      }
    },
    {
      "cell_type": "markdown",
      "source": [
        "## 6.4.1 패키지에서 * 임포트 하기"
      ],
      "metadata": {
        "id": "XkWY7d8ZyFKp"
      }
    },
    {
      "cell_type": "markdown",
      "source": [
        "이렇게 하는 데는 시간이 오래 걸리고 서브 모듈을 임포트 함에 따라 어떤 서브 모듈을 명시적으로 임포트할 경우만 일어나야만 하는 원하지 않는 부수적 효과가 발생할 수 있습니다.\n",
        "\n",
        "예를 들어, 파일 sound/effects/__init__.py 는 다음과 같은 코드를 포함할 수 있습니다."
      ],
      "metadata": {
        "id": "ZzBkuRI2ln6h"
      }
    },
    {
      "cell_type": "code",
      "source": [
        "# 이것은 from sound.effects import * 이 sound.effects 패키지의 세 서브 모듈들을 임포트하게 됨을 의미\n",
        "__all__ = [\"echo\", \"surround\", \"reverse\"]"
      ],
      "metadata": {
        "id": "7woUv-rJlwBN"
      },
      "execution_count": null,
      "outputs": []
    },
    {
      "cell_type": "code",
      "source": [
        "import sound.effects.echo\n",
        "import sound.effects.surround\n",
        "from sound.effects import *"
      ],
      "metadata": {
        "id": "Vj2yxWA8l9Cp"
      },
      "execution_count": null,
      "outputs": []
    },
    {
      "cell_type": "markdown",
      "source": [
        "__all__ 이 정의되지 않으면, 문장 from sound.effects import * 은 패키지 sound.effects 의 모든 서브 모듈들을 현재 이름 공간으로 임포트 하지 않습니다;\n",
        "\n",
        "이것은 오직 패키지 sound.effects 가 임포트 되도록 만듭니다."
      ],
      "metadata": {
        "id": "VTcWLEaOmXv1"
      }
    },
    {
      "cell_type": "markdown",
      "source": [
        "## 6.4.2 패키지 내부 간의 참조"
      ],
      "metadata": {
        "id": "RPba3PbOyMIF"
      }
    },
    {
      "cell_type": "markdown",
      "source": [
        "패키지가 서브 패키지들로 구조화될 때 (예에서 나온 sound 패키지처럼), 이웃 패키지의 서브 모듈을 가리키는데 절대 임포트를 사용할 수 있습니다. 예를 들어, 모듈 sound.filters.vocoder 이 sound.effects 패키지의 echo 모듈이 필요하면, **`from sound.effects import echo`** 를 사용할 수 있습니다.\n",
        "\n",
        "\n",
        "상대 임포트를 쓸 수도 있는데, from module import name 형태의 임포트 문을 사용합니다. 이 임포트는 상대 임포트에 수반되는 현재와 부모 패키지를 가리키기 위해 앞에 붙는 점을 사용합니다. 예를 들어, surround 모듈에서, 이렇게 사용할 수 있습니다:"
      ],
      "metadata": {
        "id": "IqAnk4HVnUbJ"
      }
    },
    {
      "cell_type": "code",
      "source": [
        "# surround 모듈 : sound.effects.surround\n",
        "from . import echo # sound.effects.echo, 한번 탈출\n",
        "from .. import formats # sound.formats\n",
        "from ..filters import equalizer # sound.filters.equalizer"
      ],
      "metadata": {
        "id": "Iov31x4lm2oH"
      },
      "execution_count": null,
      "outputs": []
    },
    {
      "cell_type": "markdown",
      "source": [
        "상대 임포트가 현재 모듈의 이름에 기반을 둔다는 것에 주의하세요. 메인 모듈의 이름은 항상 \"__main__\" 이기 때문에, 파이썬 응용 프로그램의 메인 모듈로 사용될 목적의 모듈들은 반드시 절대 임포트를 사용해야 합니다."
      ],
      "metadata": {
        "id": "-gDQEBdEn0Nn"
      }
    },
    {
      "cell_type": "markdown",
      "source": [
        "## 6.4.3 여러 디렉터리에 있는 패키지"
      ],
      "metadata": {
        "id": "RPSN44mRyOK2"
      }
    },
    {
      "cell_type": "markdown",
      "source": [
        "_ \\_path_ _ 는 패키지의 __init__.py 파일을 실행하기 전에, 이 파일이 들어있는 디렉터리의 이름을 포함하는 리스트로 초기화됩니다. 이 변수는 수정할 수 있습니다"
      ],
      "metadata": {
        "id": "MbsA1sezm9Qk"
      }
    }
  ]
}