{
  "nbformat": 4,
  "nbformat_minor": 0,
  "metadata": {
    "colab": {
      "name": "에러와 예외.ipynb",
      "provenance": [],
      "collapsed_sections": []
    },
    "kernelspec": {
      "name": "python3",
      "display_name": "Python 3"
    },
    "language_info": {
      "name": "python"
    }
  },
  "cells": [
    {
      "cell_type": "markdown",
      "source": [
        "# 8.에러와 예외"
      ],
      "metadata": {
        "id": "AtBOW7xRczIq"
      }
    },
    {
      "cell_type": "markdown",
      "source": [
        "두 가지 구별되는 에러들이 있습니다; 문법 에러 와 예외."
      ],
      "metadata": {
        "id": "nRwBZ9ngOyIP"
      }
    },
    {
      "cell_type": "markdown",
      "source": [
        "# 8.1 문법 에러"
      ],
      "metadata": {
        "id": "YzJb6bh1c0Kg"
      }
    },
    {
      "cell_type": "markdown",
      "source": [
        "문법 에러(파싱 에러)"
      ],
      "metadata": {
        "id": "hbFhnFEUO1Fx"
      }
    },
    {
      "cell_type": "code",
      "source": [
        "# print() 에서 감지되었는데, 그 앞에 콜론 (':') 이 빠져있기 때문\n",
        "while True print('Hello world')"
      ],
      "metadata": {
        "id": "zZmq_O3ogVRq",
        "colab": {
          "base_uri": "https://localhost:8080/",
          "height": 136
        },
        "outputId": "6b281bf2-8e02-437c-c590-7026521ba20b"
      },
      "execution_count": 1,
      "outputs": [
        {
          "output_type": "error",
          "ename": "SyntaxError",
          "evalue": "ignored",
          "traceback": [
            "\u001b[0;36m  File \u001b[0;32m\"<ipython-input-1-614249a26792>\"\u001b[0;36m, line \u001b[0;32m2\u001b[0m\n\u001b[0;31m    while True print('Hello world')\u001b[0m\n\u001b[0m                   ^\u001b[0m\n\u001b[0;31mSyntaxError\u001b[0m\u001b[0;31m:\u001b[0m invalid syntax\n"
          ]
        }
      ]
    },
    {
      "cell_type": "markdown",
      "source": [
        "에러는 화살표 앞에 오는 토큰이 원인입니다"
      ],
      "metadata": {
        "id": "tmwfGZqWO8G6"
      }
    },
    {
      "cell_type": "markdown",
      "source": [
        "# 8.2 예외"
      ],
      "metadata": {
        "id": "zES70Hmtc9xK"
      }
    },
    {
      "cell_type": "markdown",
      "source": [
        "실행 중에 감지되는 에러들을 예외 라고 부르고 무조건 치명적이지는 않습니다."
      ],
      "metadata": {
        "id": "49x9z2ATPMlK"
      }
    },
    {
      "cell_type": "code",
      "source": [
        "10 * (1/0)\n",
        "4 + spam*3\n",
        "'2' + 2"
      ],
      "metadata": {
        "id": "0vxvw10ZgV21"
      },
      "execution_count": null,
      "outputs": []
    },
    {
      "cell_type": "markdown",
      "source": [
        "에러 메시지의 마지막 줄은 어떤 일이 일어났는지 알려줍니다. \n",
        "\n",
        " ZeroDivisionError, NameError, TypeError"
      ],
      "metadata": {
        "id": "EtR0RDlvPWeT"
      }
    },
    {
      "cell_type": "markdown",
      "source": [
        "# 8.3 예외 처리하기"
      ],
      "metadata": {
        "id": "mAh8sNtJc9qe"
      }
    },
    {
      "cell_type": "code",
      "source": [
        "while True:\n",
        "  try:\n",
        "    x = int(input(\"Please enter a number: \"))\n",
        "    break\n",
        "  except ValueError:\n",
        "    print(\"Oops! That was no valid number. Try again...\")"
      ],
      "metadata": {
        "id": "Y8BtXbhdgWNT"
      },
      "execution_count": null,
      "outputs": []
    },
    {
      "cell_type": "code",
      "source": [
        "try:\n",
        "  pass\n",
        "except (RuntimeError, TypeError, NameError):\n",
        "  pass"
      ],
      "metadata": {
        "id": "Rq0tUpzHQFDY"
      },
      "execution_count": null,
      "outputs": []
    },
    {
      "cell_type": "code",
      "source": [
        "# 실행결과: B C D\n",
        "class B(Exception):\n",
        "    pass\n",
        "\n",
        "class C(B):\n",
        "    pass\n",
        "\n",
        "class D(C):\n",
        "    pass\n",
        "\n",
        "for cls in [B, C, D]:\n",
        "    try:\n",
        "        raise cls()\n",
        "    except D:\n",
        "        print(\"D\")\n",
        "    except C:\n",
        "        print(\"C\")\n",
        "    except B:\n",
        "        print(\"B\")"
      ],
      "metadata": {
        "colab": {
          "base_uri": "https://localhost:8080/"
        },
        "id": "TchdO7LrQ6PG",
        "outputId": "b584becb-9cf1-4471-dcf4-9ee4ccefda17"
      },
      "execution_count": 2,
      "outputs": [
        {
          "output_type": "stream",
          "name": "stdout",
          "text": [
            "B\n",
            "C\n",
            "D\n"
          ]
        }
      ]
    },
    {
      "cell_type": "code",
      "source": [
        "# 순서가 바뀌면 BBB\n",
        "class B(Exception):\n",
        "    pass\n",
        "\n",
        "class C(B):\n",
        "    pass\n",
        "\n",
        "class D(C):\n",
        "    pass\n",
        "\n",
        "for cls in [B, C, D]:\n",
        "    try:\n",
        "        raise cls()\n",
        "    except B:\n",
        "        print(\"B\")\n",
        "    except D:\n",
        "        print(\"D\")\n",
        "    except C:\n",
        "        print(\"C\")\n"
      ],
      "metadata": {
        "colab": {
          "base_uri": "https://localhost:8080/"
        },
        "id": "z-_YtrMNRaps",
        "outputId": "400ad725-e21e-4dd0-dc3c-b08ad473d31a"
      },
      "execution_count": 3,
      "outputs": [
        {
          "output_type": "stream",
          "name": "stdout",
          "text": [
            "B\n",
            "B\n",
            "B\n"
          ]
        }
      ]
    },
    {
      "cell_type": "code",
      "source": [
        "import sys\n",
        "\n",
        "try:\n",
        "    f = open('myfile.txt')\n",
        "    s = f.readline()\n",
        "    i = int(s.strip())\n",
        "except OSError as err:\n",
        "    print(\"OS error: {0}\".format(err))\n",
        "except ValueError:\n",
        "    print(\"Could not convert data to an integer.\")\n",
        "except BaseException as err:\n",
        "    print(f\"Unexpected {err=}, {type(err)=}\")\n",
        "    raise"
      ],
      "metadata": {
        "id": "mcy5f6VARags"
      },
      "execution_count": null,
      "outputs": []
    },
    {
      "cell_type": "markdown",
      "source": [
        "All exceptions inherit from BaseException, and so it can be used to serve as a wildcard.\n",
        "\n",
        " It can also be used to print an error message"
      ],
      "metadata": {
        "id": "xh-kDfJsSR_Y"
      }
    },
    {
      "cell_type": "code",
      "source": [
        "for arg in sys.argv[1:]:\n",
        "    try:\n",
        "        f = open(arg, 'r')\n",
        "    except OSError:\n",
        "        print('cannot open', arg)\n",
        "    else:\n",
        "        print(arg, 'has', len(f.readlines()), 'lines')\n",
        "        f.close()"
      ],
      "metadata": {
        "id": "4eVHFwfuR21m"
      },
      "execution_count": null,
      "outputs": []
    },
    {
      "cell_type": "markdown",
      "source": [
        "**[else절]:** try절이 예외를 일으키지않으면 무조건 실행괴어야하는 코드를 작성할 때 유용하다.\n",
        "\n",
        "\n",
        "else 절의 사용이 try 절에 코드를 추가하는 것보다 좋은데, try … except 문에 의해 보호되고 있는 코드가 일으키지 않은 예외를 우연히 잡게 되는 것을 방지하기 때문입니다."
      ],
      "metadata": {
        "id": "hA0Uo9oaSp2X"
      }
    },
    {
      "cell_type": "code",
      "source": [
        "try:\n",
        "  raise Exception('spam','eggs')\n",
        "except Exception as inst:\n",
        "  print(type(inst))\n",
        "  print(inst.args)\n",
        "  print(inst)\n",
        "\n",
        "  x, y = inst.args\n",
        "  print('x=', x)\n",
        "  print('y=', y)"
      ],
      "metadata": {
        "colab": {
          "base_uri": "https://localhost:8080/"
        },
        "id": "o01xOlv-R4cf",
        "outputId": "586139de-099b-4487-a638-ef32f9888ba3"
      },
      "execution_count": 5,
      "outputs": [
        {
          "output_type": "stream",
          "name": "stdout",
          "text": [
            "<class 'Exception'>\n",
            "('spam', 'eggs')\n",
            "('spam', 'eggs')\n",
            "x= spam\n",
            "y= eggs\n"
          ]
        }
      ]
    },
    {
      "cell_type": "code",
      "source": [
        "def this_fails():\n",
        "  x=1/0\n",
        "\n",
        "try:\n",
        "  this_fails()\n",
        "except ZeroDivisionError as err:\n",
        "  print('Handling run-time error:', err)"
      ],
      "metadata": {
        "id": "qx10dTfSclmD"
      },
      "execution_count": null,
      "outputs": []
    },
    {
      "cell_type": "markdown",
      "source": [
        "# 8.4 예외 일으키기"
      ],
      "metadata": {
        "id": "NQxcwy5sdl40"
      }
    },
    {
      "cell_type": "markdown",
      "source": [
        "raise 문은 프로그래머가 지정한 예외가 발생하도록 강제할 수 있게 합니다. "
      ],
      "metadata": {
        "id": "TUeocsukdAfk"
      }
    },
    {
      "cell_type": "code",
      "source": [
        "raise NameError('HiThere')"
      ],
      "metadata": {
        "id": "BDU4c5idgW20",
        "colab": {
          "base_uri": "https://localhost:8080/",
          "height": 172
        },
        "outputId": "c742e3a5-5976-478b-c013-e1016b9ca0f2"
      },
      "execution_count": 6,
      "outputs": [
        {
          "output_type": "error",
          "ename": "NameError",
          "evalue": "ignored",
          "traceback": [
            "\u001b[0;31m---------------------------------------------------------------------------\u001b[0m",
            "\u001b[0;31mNameError\u001b[0m                                 Traceback (most recent call last)",
            "\u001b[0;32m<ipython-input-6-72c183edb298>\u001b[0m in \u001b[0;36m<module>\u001b[0;34m()\u001b[0m\n\u001b[0;32m----> 1\u001b[0;31m \u001b[0;32mraise\u001b[0m \u001b[0mNameError\u001b[0m\u001b[0;34m(\u001b[0m\u001b[0;34m'HiThere'\u001b[0m\u001b[0;34m)\u001b[0m\u001b[0;34m\u001b[0m\u001b[0;34m\u001b[0m\u001b[0m\n\u001b[0m",
            "\u001b[0;31mNameError\u001b[0m: HiThere"
          ]
        }
      ]
    },
    {
      "cell_type": "code",
      "source": [
        "raise ValueError"
      ],
      "metadata": {
        "colab": {
          "base_uri": "https://localhost:8080/",
          "height": 172
        },
        "id": "BcKPcDixdGqK",
        "outputId": "a4e4cf31-3450-42e6-915e-74491654eb5c"
      },
      "execution_count": 7,
      "outputs": [
        {
          "output_type": "error",
          "ename": "ValueError",
          "evalue": "ignored",
          "traceback": [
            "\u001b[0;31m---------------------------------------------------------------------------\u001b[0m",
            "\u001b[0;31mValueError\u001b[0m                                Traceback (most recent call last)",
            "\u001b[0;32m<ipython-input-7-e4c8e09828d5>\u001b[0m in \u001b[0;36m<module>\u001b[0;34m()\u001b[0m\n\u001b[0;32m----> 1\u001b[0;31m \u001b[0;32mraise\u001b[0m \u001b[0mValueError\u001b[0m\u001b[0;34m\u001b[0m\u001b[0;34m\u001b[0m\u001b[0m\n\u001b[0m",
            "\u001b[0;31mValueError\u001b[0m: "
          ]
        }
      ]
    },
    {
      "cell_type": "code",
      "source": [
        "try:\n",
        "  raise NameError('HiTHere')\n",
        "except NameError:\n",
        "  print('An exception flew by!')\n",
        "  raise"
      ],
      "metadata": {
        "colab": {
          "base_uri": "https://localhost:8080/",
          "height": 263
        },
        "id": "ll6MwytLdOse",
        "outputId": "fb4be0c2-2191-4689-aadc-661618c9aad3"
      },
      "execution_count": 8,
      "outputs": [
        {
          "output_type": "stream",
          "name": "stdout",
          "text": [
            "An exception flew by!\n"
          ]
        },
        {
          "output_type": "error",
          "ename": "NameError",
          "evalue": "ignored",
          "traceback": [
            "\u001b[0;31m---------------------------------------------------------------------------\u001b[0m",
            "\u001b[0;31mNameError\u001b[0m                                 Traceback (most recent call last)",
            "\u001b[0;32m<ipython-input-8-96289458081d>\u001b[0m in \u001b[0;36m<module>\u001b[0;34m()\u001b[0m\n\u001b[1;32m      1\u001b[0m \u001b[0;32mtry\u001b[0m\u001b[0;34m:\u001b[0m\u001b[0;34m\u001b[0m\u001b[0;34m\u001b[0m\u001b[0m\n\u001b[0;32m----> 2\u001b[0;31m   \u001b[0;32mraise\u001b[0m \u001b[0mNameError\u001b[0m\u001b[0;34m(\u001b[0m\u001b[0;34m'HiTHere'\u001b[0m\u001b[0;34m)\u001b[0m\u001b[0;34m\u001b[0m\u001b[0;34m\u001b[0m\u001b[0m\n\u001b[0m\u001b[1;32m      3\u001b[0m \u001b[0;32mexcept\u001b[0m \u001b[0mNameError\u001b[0m\u001b[0;34m:\u001b[0m\u001b[0;34m\u001b[0m\u001b[0;34m\u001b[0m\u001b[0m\n\u001b[1;32m      4\u001b[0m   \u001b[0mprint\u001b[0m\u001b[0;34m(\u001b[0m\u001b[0;34m'An exception flew by!'\u001b[0m\u001b[0;34m)\u001b[0m\u001b[0;34m\u001b[0m\u001b[0;34m\u001b[0m\u001b[0m\n\u001b[1;32m      5\u001b[0m   \u001b[0;32mraise\u001b[0m\u001b[0;34m\u001b[0m\u001b[0;34m\u001b[0m\u001b[0m\n",
            "\u001b[0;31mNameError\u001b[0m: HiTHere"
          ]
        }
      ]
    },
    {
      "cell_type": "markdown",
      "source": [
        "# 8.5 예외 연쇄"
      ],
      "metadata": {
        "id": "A9YTa2nednv_"
      }
    },
    {
      "cell_type": "markdown",
      "source": [
        "The raise statement allows an optional from which enables chaining exceptions. "
      ],
      "metadata": {
        "id": "Kfs9S0fkduES"
      }
    },
    {
      "cell_type": "code",
      "source": [
        "# exc must be exception instance or None.\n",
        "raise RuntimeError from exc"
      ],
      "metadata": {
        "id": "epj8Esw_gXbf"
      },
      "execution_count": null,
      "outputs": []
    },
    {
      "cell_type": "code",
      "source": [
        "# 예외를 변환\n",
        "def func():\n",
        "  raise ConnectionError\n",
        "\n",
        "try:\n",
        "  func()\n",
        "except ConnectionError as exc:\n",
        "  raise RuntimeError('Failed to open database') from exc"
      ],
      "metadata": {
        "colab": {
          "base_uri": "https://localhost:8080/",
          "height": 414
        },
        "id": "dsvnpBHXdwQx",
        "outputId": "5b6b8870-3cfd-4d4f-dbd1-ab6f0f005055"
      },
      "execution_count": 9,
      "outputs": [
        {
          "output_type": "error",
          "ename": "RuntimeError",
          "evalue": "ignored",
          "traceback": [
            "\u001b[0;31m---------------------------------------------------------------------------\u001b[0m",
            "\u001b[0;31mConnectionError\u001b[0m                           Traceback (most recent call last)",
            "\u001b[0;32m<ipython-input-9-e628c54c15f2>\u001b[0m in \u001b[0;36m<module>\u001b[0;34m()\u001b[0m\n\u001b[1;32m      5\u001b[0m \u001b[0;32mtry\u001b[0m\u001b[0;34m:\u001b[0m\u001b[0;34m\u001b[0m\u001b[0;34m\u001b[0m\u001b[0m\n\u001b[0;32m----> 6\u001b[0;31m   \u001b[0mfunc\u001b[0m\u001b[0;34m(\u001b[0m\u001b[0;34m)\u001b[0m\u001b[0;34m\u001b[0m\u001b[0;34m\u001b[0m\u001b[0m\n\u001b[0m\u001b[1;32m      7\u001b[0m \u001b[0;32mexcept\u001b[0m \u001b[0mConnectionError\u001b[0m \u001b[0;32mas\u001b[0m \u001b[0mexc\u001b[0m\u001b[0;34m:\u001b[0m\u001b[0;34m\u001b[0m\u001b[0;34m\u001b[0m\u001b[0m\n",
            "\u001b[0;32m<ipython-input-9-e628c54c15f2>\u001b[0m in \u001b[0;36mfunc\u001b[0;34m()\u001b[0m\n\u001b[1;32m      2\u001b[0m \u001b[0;32mdef\u001b[0m \u001b[0mfunc\u001b[0m\u001b[0;34m(\u001b[0m\u001b[0;34m)\u001b[0m\u001b[0;34m:\u001b[0m\u001b[0;34m\u001b[0m\u001b[0;34m\u001b[0m\u001b[0m\n\u001b[0;32m----> 3\u001b[0;31m   \u001b[0;32mraise\u001b[0m \u001b[0mConnectionError\u001b[0m\u001b[0;34m\u001b[0m\u001b[0;34m\u001b[0m\u001b[0m\n\u001b[0m\u001b[1;32m      4\u001b[0m \u001b[0;34m\u001b[0m\u001b[0m\n",
            "\u001b[0;31mConnectionError\u001b[0m: ",
            "\nThe above exception was the direct cause of the following exception:\n",
            "\u001b[0;31mRuntimeError\u001b[0m                              Traceback (most recent call last)",
            "\u001b[0;32m<ipython-input-9-e628c54c15f2>\u001b[0m in \u001b[0;36m<module>\u001b[0;34m()\u001b[0m\n\u001b[1;32m      6\u001b[0m   \u001b[0mfunc\u001b[0m\u001b[0;34m(\u001b[0m\u001b[0;34m)\u001b[0m\u001b[0;34m\u001b[0m\u001b[0;34m\u001b[0m\u001b[0m\n\u001b[1;32m      7\u001b[0m \u001b[0;32mexcept\u001b[0m \u001b[0mConnectionError\u001b[0m \u001b[0;32mas\u001b[0m \u001b[0mexc\u001b[0m\u001b[0;34m:\u001b[0m\u001b[0;34m\u001b[0m\u001b[0;34m\u001b[0m\u001b[0m\n\u001b[0;32m----> 8\u001b[0;31m   \u001b[0;32mraise\u001b[0m \u001b[0mRuntimeError\u001b[0m\u001b[0;34m(\u001b[0m\u001b[0;34m'Failed to open database'\u001b[0m\u001b[0;34m)\u001b[0m \u001b[0;32mfrom\u001b[0m \u001b[0mexc\u001b[0m\u001b[0;34m\u001b[0m\u001b[0;34m\u001b[0m\u001b[0m\n\u001b[0m",
            "\u001b[0;31mRuntimeError\u001b[0m: Failed to open database"
          ]
        }
      ]
    },
    {
      "cell_type": "code",
      "source": [
        "# 이 경우에는 try문에서 발생한 OSError 메세지가 나오지않음\n",
        "try:\n",
        "  open('database.sqlite')\n",
        "except OSError:\n",
        "  raise RuntimeError from None"
      ],
      "metadata": {
        "id": "h7h-1PxueNuX"
      },
      "execution_count": null,
      "outputs": []
    },
    {
      "cell_type": "markdown",
      "source": [
        "# 8.6 사용자 정의 예외"
      ],
      "metadata": {
        "id": "t4f1ZNZ-dqXF"
      }
    },
    {
      "cell_type": "markdown",
      "source": [
        "새 예외 클래스를 만듦으로써 프로그램은 자신의 예외에 이름을 붙일 수 있습니다.\n",
        "\n",
        "대부분의 예외는 표준 예외들의 이름들과 유사하게, 《Error》 로 끝나는 이름으로 정의됩니다."
      ],
      "metadata": {
        "id": "filFAnwFetV-"
      }
    },
    {
      "cell_type": "markdown",
      "source": [
        "# 8.7 뒷정리 동작 정의하기"
      ],
      "metadata": {
        "id": "NC1BPRCKc9d1"
      }
    },
    {
      "cell_type": "markdown",
      "source": [
        "모든 상황에 실행되어야만 하는 뒷정리 동작"
      ],
      "metadata": {
        "id": "-s8_nQRae0dm"
      }
    },
    {
      "cell_type": "code",
      "source": [
        "try:\n",
        "  raise KeyboardInterrupt\n",
        "finally:\n",
        "  print('Goodbye, world!')\n",
        "  "
      ],
      "metadata": {
        "id": "jcNvQ2rigXvS",
        "colab": {
          "base_uri": "https://localhost:8080/",
          "height": 263
        },
        "outputId": "e14dc32c-0ec5-4f12-ec7c-eb26719b1af0"
      },
      "execution_count": 10,
      "outputs": [
        {
          "output_type": "stream",
          "name": "stdout",
          "text": [
            "Goodbye, world!\n"
          ]
        },
        {
          "output_type": "error",
          "ename": "KeyboardInterrupt",
          "evalue": "ignored",
          "traceback": [
            "\u001b[0;31m---------------------------------------------------------------------------\u001b[0m",
            "\u001b[0;31mKeyboardInterrupt\u001b[0m                         Traceback (most recent call last)",
            "\u001b[0;32m<ipython-input-10-6ae924dd18b2>\u001b[0m in \u001b[0;36m<module>\u001b[0;34m()\u001b[0m\n\u001b[1;32m      1\u001b[0m \u001b[0;32mtry\u001b[0m\u001b[0;34m:\u001b[0m\u001b[0;34m\u001b[0m\u001b[0;34m\u001b[0m\u001b[0m\n\u001b[0;32m----> 2\u001b[0;31m   \u001b[0;32mraise\u001b[0m \u001b[0mKeyboardInterrupt\u001b[0m\u001b[0;34m\u001b[0m\u001b[0;34m\u001b[0m\u001b[0m\n\u001b[0m\u001b[1;32m      3\u001b[0m \u001b[0;32mfinally\u001b[0m\u001b[0;34m:\u001b[0m\u001b[0;34m\u001b[0m\u001b[0;34m\u001b[0m\u001b[0m\n\u001b[1;32m      4\u001b[0m   \u001b[0mprint\u001b[0m\u001b[0;34m(\u001b[0m\u001b[0;34m'Goodbye, world!'\u001b[0m\u001b[0;34m)\u001b[0m\u001b[0;34m\u001b[0m\u001b[0;34m\u001b[0m\u001b[0m\n\u001b[1;32m      5\u001b[0m \u001b[0;34m\u001b[0m\u001b[0m\n",
            "\u001b[0;31mKeyboardInterrupt\u001b[0m: "
          ]
        }
      ]
    },
    {
      "cell_type": "markdown",
      "source": [
        "finally 절이 있으면, try 문이 완료되기 전에 finally 절이 마지막 작업으로 실행됩니다. finally 절은 try 문이 예외를 생성하는지와 관계없이 실행됩니다. "
      ],
      "metadata": {
        "id": "6KgeJDz5fQ2D"
      }
    },
    {
      "cell_type": "code",
      "source": [
        "def bool_return():\n",
        "  try:\n",
        "    return True\n",
        "  finally:\n",
        "    return False\n",
        "\n",
        "bool_return() # 실행결과: False"
      ],
      "metadata": {
        "id": "wX5Y4ryHgYCR"
      },
      "execution_count": null,
      "outputs": []
    },
    {
      "cell_type": "code",
      "source": [
        "def divide(x, y):\n",
        "  try:\n",
        "    result = x / y\n",
        "  except ZeroDivisionError:\n",
        "    print('division by zero!')\n",
        "  else:\n",
        "    print(\"result is\", result)\n",
        "  finally:\n",
        "    print(\"executing finalyl clause\")\n"
      ],
      "metadata": {
        "id": "Kf57z6aufUU5"
      },
      "execution_count": 11,
      "outputs": []
    },
    {
      "cell_type": "code",
      "source": [
        "divide(2, 1)\n",
        "\n",
        "# result is 2.0\n",
        "# executing finalyl clause"
      ],
      "metadata": {
        "colab": {
          "base_uri": "https://localhost:8080/"
        },
        "id": "FrqwSPLMgbOG",
        "outputId": "5779f65c-a43a-406f-9d8d-6d0c31dfb1fe"
      },
      "execution_count": 12,
      "outputs": [
        {
          "output_type": "stream",
          "name": "stdout",
          "text": [
            "result is 2.0\n",
            "executing finalyl clause\n"
          ]
        }
      ]
    },
    {
      "cell_type": "code",
      "source": [
        "divide(2, 0)\n",
        "\n",
        "# division by zero!\n",
        "# executing finalyl clause"
      ],
      "metadata": {
        "colab": {
          "base_uri": "https://localhost:8080/"
        },
        "id": "dWZ96wopgc3l",
        "outputId": "0c4cdcb4-e2b9-4912-f1ba-ad2c2c4a03ab"
      },
      "execution_count": 13,
      "outputs": [
        {
          "output_type": "stream",
          "name": "stdout",
          "text": [
            "division by zero!\n",
            "executing finalyl clause\n"
          ]
        }
      ]
    },
    {
      "cell_type": "code",
      "source": [
        "divide(\"2\", \"1\")\n",
        "\n",
        "# executing finalyl clause"
      ],
      "metadata": {
        "colab": {
          "base_uri": "https://localhost:8080/",
          "height": 318
        },
        "id": "uX273p1vggTD",
        "outputId": "4fedf053-8edf-4583-aad5-cb5815dc6f58"
      },
      "execution_count": 14,
      "outputs": [
        {
          "output_type": "stream",
          "name": "stdout",
          "text": [
            "executing finalyl clause\n"
          ]
        },
        {
          "output_type": "error",
          "ename": "TypeError",
          "evalue": "ignored",
          "traceback": [
            "\u001b[0;31m---------------------------------------------------------------------------\u001b[0m",
            "\u001b[0;31mTypeError\u001b[0m                                 Traceback (most recent call last)",
            "\u001b[0;32m<ipython-input-14-3ad63cdb9b7d>\u001b[0m in \u001b[0;36m<module>\u001b[0;34m()\u001b[0m\n\u001b[0;32m----> 1\u001b[0;31m \u001b[0mdivide\u001b[0m\u001b[0;34m(\u001b[0m\u001b[0;34m\"2\"\u001b[0m\u001b[0;34m,\u001b[0m \u001b[0;34m\"1\"\u001b[0m\u001b[0;34m)\u001b[0m\u001b[0;34m\u001b[0m\u001b[0;34m\u001b[0m\u001b[0m\n\u001b[0m",
            "\u001b[0;32m<ipython-input-11-12884a7d432c>\u001b[0m in \u001b[0;36mdivide\u001b[0;34m(x, y)\u001b[0m\n\u001b[1;32m      1\u001b[0m \u001b[0;32mdef\u001b[0m \u001b[0mdivide\u001b[0m\u001b[0;34m(\u001b[0m\u001b[0mx\u001b[0m\u001b[0;34m,\u001b[0m \u001b[0my\u001b[0m\u001b[0;34m)\u001b[0m\u001b[0;34m:\u001b[0m\u001b[0;34m\u001b[0m\u001b[0;34m\u001b[0m\u001b[0m\n\u001b[1;32m      2\u001b[0m   \u001b[0;32mtry\u001b[0m\u001b[0;34m:\u001b[0m\u001b[0;34m\u001b[0m\u001b[0;34m\u001b[0m\u001b[0m\n\u001b[0;32m----> 3\u001b[0;31m     \u001b[0mresult\u001b[0m \u001b[0;34m=\u001b[0m \u001b[0mx\u001b[0m \u001b[0;34m/\u001b[0m \u001b[0my\u001b[0m\u001b[0;34m\u001b[0m\u001b[0;34m\u001b[0m\u001b[0m\n\u001b[0m\u001b[1;32m      4\u001b[0m   \u001b[0;32mexcept\u001b[0m \u001b[0mZeroDivisionError\u001b[0m\u001b[0;34m:\u001b[0m\u001b[0;34m\u001b[0m\u001b[0;34m\u001b[0m\u001b[0m\n\u001b[1;32m      5\u001b[0m     \u001b[0mprint\u001b[0m\u001b[0;34m(\u001b[0m\u001b[0;34m'division by zero!'\u001b[0m\u001b[0;34m)\u001b[0m\u001b[0;34m\u001b[0m\u001b[0;34m\u001b[0m\u001b[0m\n",
            "\u001b[0;31mTypeError\u001b[0m: unsupported operand type(s) for /: 'str' and 'str'"
          ]
        }
      ]
    },
    {
      "cell_type": "markdown",
      "source": [
        "# 8.8 미리 정의된 뒷정리 동작들"
      ],
      "metadata": {
        "id": "PdCGl_Bwc9V5"
      }
    },
    {
      "cell_type": "code",
      "execution_count": null,
      "metadata": {
        "id": "r7FJnVlFZj0V"
      },
      "outputs": [],
      "source": [
        "for line in open(\"myfile.txt\"):\n",
        "    print(line, end=\"\")"
      ]
    },
    {
      "cell_type": "markdown",
      "source": [
        "이 코드의 문제점은 이 부분이 실행을 끝낸 뒤에도 예측할 수 없는 기간 동안 파일을 열린 채로 둔다는 것입니다. 간단한 스크립트에서는 문제가 되지 않지만, 큰 응용 프로그램에서는 문제가 될 수 있습니다. with 문은 파일과 같은 객체들이 즉시 올바르게 뒷정리 되도록 보장하는 방법을 제공합니다."
      ],
      "metadata": {
        "id": "pzvyCCdug1yQ"
      }
    },
    {
      "cell_type": "code",
      "source": [
        "with open(\"myfile.txt\") as f:\n",
        "    for line in f:\n",
        "        print(line, end=\"\")"
      ],
      "metadata": {
        "id": "cOqaur8JcwQk"
      },
      "execution_count": null,
      "outputs": []
    },
    {
      "cell_type": "markdown",
      "source": [
        "문장이 실행된 후에, 줄을 처리하는 데 문제가 발생하더라도, 파일 f 는 항상 닫힙니다. "
      ],
      "metadata": {
        "id": "mISmmcV4g5tr"
      }
    }
  ]
}